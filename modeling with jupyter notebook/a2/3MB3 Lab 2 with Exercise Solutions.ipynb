{
 "cells": [
  {
   "cell_type": "markdown",
   "metadata": {},
   "source": [
    "# Lab 2 - Univariate Linear Discrete-time Deterministic (ULDD) models"
   ]
  },
  {
   "cell_type": "markdown",
   "metadata": {},
   "source": [
    "Author: Irena Papst and Elizabeth O'Meara"
   ]
  },
  {
   "cell_type": "code",
   "execution_count": 1,
   "metadata": {},
   "outputs": [],
   "source": [
    "import numpy as np\n",
    "import matplotlib.pyplot as plt"
   ]
  },
  {
   "cell_type": "markdown",
   "metadata": {},
   "source": [
    "## Long-term Behaviour of the Geometric Growth Model"
   ]
  },
  {
   "cell_type": "markdown",
   "metadata": {},
   "source": [
    "In lecture, you began analyzing the geometric growth model as defined in the following equation:\n",
    "\n",
    "$$\n",
    "P_{N + 1} = r P_N + m \n",
    "$$\n",
    "\n",
    "Where $r$ is the per capita reproduction rate ($r > 0$) and $m$ is a constant migration rate that can be either positive or negative. You also found the fixed point (where $P_{N + 1} = P_N$), $P^* = \\frac{m}{1 - r}$. In this model, there are 6 parameter cases:\n",
    "\n",
    "1. $m > 0$ and $r < 1$\n",
    "2. $m < 0$ and $r > 1$\n",
    "3. $m \\geq 0$ and $r > 1$\n",
    "4. $m < 0$ and $r < 1$\n",
    "5. $m = 0$ and $r = 1$\n",
    "6. $m \\neq 0$ and $r = 1$\n",
    "\n",
    "In each of these cases, there will be different long term model behaviours. You have already analyzed the cases 1 and 2 in class, where $P^* > 0$ so that it is biologically relevant."
   ]
  },
  {
   "cell_type": "markdown",
   "metadata": {},
   "source": [
    "-----"
   ]
  },
  {
   "cell_type": "markdown",
   "metadata": {},
   "source": [
    "**Exercise 1**: I will split you into 5 breakout rooms. Each group will be assigned a different range of parameters. As a group, do the following:\n",
    "\n",
    "1. Use cobwebbing to determine **long-term model behaviour** as it relates to the population\n",
    "2. Tie back the long-term behaviour to **parameter interpretation**\n",
    "\n",
    "Once complete, we will take it up and fill in the table below."
   ]
  },
  {
   "cell_type": "markdown",
   "metadata": {},
   "source": [
    "|   Parameter Values  | Long-term Model Behaviour | Parameter Interpretation |\n",
    "|:-------------------:|:-------------------------:|:------------------------:|\n",
    "| $m > 0$, $r < 1$    | Pop decreases to a fixed point          | Immigration & Pop decay  |\n",
    "| $m < 0$, $r > 1$    | Pop grows w/out bound     | Emmigration & growth     |\n",
    "| $m \\geq 0$, $r > 1$ | Pop grows w/out bound     | Immigration & growth     |\n",
    "| $m < 0$, $r < 1$    | Pop goes extinct          | Emmigration & Pop decay  |\n",
    "| $m = 0$ , $r = 1$   | Every point is an <br> equilibrium  | Perfect one-for-one replacement                         |\n",
    "| $m > 0$, $r = 1$    | Pop grows w/out bound     | Immigration & one-for-one replacement                         |\n",
    "| $m < 0$, $r = 1$    | Pop goes extinct          | Emmigration & one-for-one replacement                         |"
   ]
  },
  {
   "cell_type": "markdown",
   "metadata": {},
   "source": [
    "![Answer 3](Lab2answer3.png)"
   ]
  },
  {
   "cell_type": "markdown",
   "metadata": {},
   "source": [
    "![Answer 2](Lab2answer2.png)\n"
   ]
  },
  {
   "cell_type": "markdown",
   "metadata": {},
   "source": [
    "![Answer 1](Lab2answer1.png)"
   ]
  },
  {
   "cell_type": "markdown",
   "metadata": {},
   "source": [
    "-----"
   ]
  },
  {
   "cell_type": "markdown",
   "metadata": {},
   "source": [
    "## Using Python to Simulate a Solution Trajectory"
   ]
  },
  {
   "cell_type": "markdown",
   "metadata": {},
   "source": [
    "Although cobwebbing gives us an idea of the long-term model behviour, we do not know what a solution of this model looks like. We can either find an analytic solution, or we can simply use python to simulate a solution trajectory for a specific set of parameters.\n",
    "\n",
    "In last week's Lab, I introduced for loops as a tool for performing recursive calculations that can simulate solutions to a model. We will use the same methods to simulate a solution to the geometric growth model. However, since there are 7 different scenarios for which we will want to simulate a solution trajectory, copying and pasting the same code over and over, just changing a couple parameters isn't the best idea. For example, if you realize that you have an error in the code, or that there is a better way to do something, you will have to go back and change each of the copies of the code. It is better practice to instead define a function that takes arguments for the parameters that change, and outputs what you want.\n",
    "\n",
    "The following is an example of a function called `introduce` that takes the arguement `name` and outputs a string that says \"My name is `name`\". It's always a good idea to name your function with descriptive verbs, so that you can easily remember what it's supposed to do."
   ]
  },
  {
   "cell_type": "code",
   "execution_count": 2,
   "metadata": {},
   "outputs": [
    {
     "name": "stdout",
     "output_type": "stream",
     "text": [
      "My name is Elizabeth\n"
     ]
    }
   ],
   "source": [
    "def introduce(name):\n",
    "    print(\"My name is \" + name)\n",
    "\n",
    "introduce(name = \"Elizabeth\")"
   ]
  },
  {
   "cell_type": "markdown",
   "metadata": {},
   "source": [
    "When defining functions, you start with the keyword `def` as shown, followed by the name of your function with parentheses. Within the parentheses is where you can include any function arguments (variables or parameters you may want to vary). Similar to for loops, you must include a colon before writing the code that the function executes. Then on the next line you begin the code that you want the function to run. In the example above that is `print(\"My name is \" + name)`. (Code within a function definition must be on indented lines.) \n",
    "\n",
    "To call a function you simply use the function name followed by parentheses with any arguements you need. If your function does not have a default value for each argumement and you try to execute the function while ommitting an arguement you will get an error. See below."
   ]
  },
  {
   "cell_type": "code",
   "execution_count": 3,
   "metadata": {},
   "outputs": [
    {
     "ename": "NameError",
     "evalue": "name 'my_name' is not defined",
     "output_type": "error",
     "traceback": [
      "\u001b[0;31m---------------------------------------------------------------------------\u001b[0m",
      "\u001b[0;31mNameError\u001b[0m                                 Traceback (most recent call last)",
      "\u001b[0;32m/tmp/ipykernel_135/762372644.py\u001b[0m in \u001b[0;36m<module>\u001b[0;34m\u001b[0m\n\u001b[0;32m----> 1\u001b[0;31m \u001b[0mmy_name\u001b[0m\u001b[0;34m(\u001b[0m\u001b[0;34m)\u001b[0m\u001b[0;34m\u001b[0m\u001b[0;34m\u001b[0m\u001b[0m\n\u001b[0m",
      "\u001b[0;31mNameError\u001b[0m: name 'my_name' is not defined"
     ]
    }
   ],
   "source": [
    "my_name()"
   ]
  },
  {
   "cell_type": "markdown",
   "metadata": {},
   "source": [
    "If you want to include a default value for arguements to prevent this error, you can do so in the following way:"
   ]
  },
  {
   "cell_type": "code",
   "execution_count": 4,
   "metadata": {},
   "outputs": [
    {
     "name": "stdout",
     "output_type": "stream",
     "text": [
      "My name is Elizabeth\n",
      "My name is Emily\n"
     ]
    }
   ],
   "source": [
    "def introduce(name = \"Elizabeth\"):\n",
    "    print(\"My name is \" + name)\n",
    "\n",
    "introduce()\n",
    "introduce(name = \"Emily\")"
   ]
  },
  {
   "cell_type": "markdown",
   "metadata": {},
   "source": [
    "You can have as many arguements as necessary within the function simply by separating them by a comma. For example:"
   ]
  },
  {
   "cell_type": "code",
   "execution_count": 5,
   "metadata": {},
   "outputs": [
    {
     "name": "stdout",
     "output_type": "stream",
     "text": [
      "My name is Elizabeth O'Meara\n",
      "My name is Emily Smith\n"
     ]
    }
   ],
   "source": [
    "def introduce_fully(first = \"Elizabeth\", last = \"O'Meara\"):\n",
    "    print(\"My name is \" + first + \" \" + last)\n",
    "    \n",
    "introduce_fully()\n",
    "introduce_fully(first = \"Emily\", last = \"Smith\")"
   ]
  },
  {
   "cell_type": "markdown",
   "metadata": {},
   "source": [
    "You can also have a function return a value that you can assign to a variable. For example, the following function takes the arguement `x` and returns the value of `x*3`."
   ]
  },
  {
   "cell_type": "code",
   "execution_count": 6,
   "metadata": {},
   "outputs": [
    {
     "name": "stdout",
     "output_type": "stream",
     "text": [
      "12\n"
     ]
    }
   ],
   "source": [
    "def triple(x):\n",
    "    y = x*3\n",
    "    return y\n",
    "\n",
    "z = triple(x = 4)\n",
    "print(z)"
   ]
  },
  {
   "cell_type": "markdown",
   "metadata": {},
   "source": [
    "When defining functions, try to follow the same naming conventions as in naming variables, ie. short, descriptive names."
   ]
  },
  {
   "cell_type": "markdown",
   "metadata": {},
   "source": [
    "**Exercise 2**: Create a function that simulates the geometric growth model **using the model equation**. Your function should take the arguments $P_0$, $r$, $m$, and a total number of time steps $T$ (not counting $N = 0$). \n",
    "\n",
    "Make sure the output of your function is a vector containing $P_N$ for each simulated time $N$. Not only is this good practice for writing functions, but it will also help you with your homework for the week. \n",
    "\n",
    "*Confidence check*: with $m=10$, $r=0.5$, $P_0=1000$, you should calculate $P_{10} = 20.95703125$."
   ]
  },
  {
   "cell_type": "code",
   "execution_count": 7,
   "metadata": {},
   "outputs": [
    {
     "name": "stdout",
     "output_type": "stream",
     "text": [
      "[1000.          510.          265.          142.5          81.25\n",
      "   50.625        35.3125       27.65625      23.828125     21.9140625\n",
      "   20.95703125]\n"
     ]
    }
   ],
   "source": [
    "def geom_growth(m=10, r=0.5, P0=1000, T=10):\n",
    "    tvec = np.arange(T + 1)\n",
    "    P = np.zeros(T + 1)\n",
    "    P[0] = P0\n",
    "    \n",
    "    for t in tvec[:T]:\n",
    "        P[t + 1] = r*P[t] + m\n",
    "    \n",
    "    return P\n",
    "P = geom_growth()\n",
    "print(P)"
   ]
  },
  {
   "cell_type": "markdown",
   "metadata": {},
   "source": [
    "**Exercise 3**: Using the function you created in exercise 2, plot a solution trajectory for your assigned parameter range from exercise 1. Is the simulation consistent with your earlier cobwebbing results?"
   ]
  },
  {
   "cell_type": "code",
   "execution_count": 8,
   "metadata": {},
   "outputs": [
    {
     "data": {
      "image/png": "[encoded data removed]",
      "text/plain": [
       "<Figure size 432x288 with 1 Axes>"
      ]
     },
     "metadata": {
      "needs_background": "light"
     },
     "output_type": "display_data"
    }
   ],
   "source": [
    "T = 10\n",
    "tvec = np.arange(T + 1)\n",
    "case_1 = geom_growth()\n",
    "case_2 = geom_growth(m=-10, r=1.5)\n",
    "case_3 = geom_growth(m=0, r=1.5)\n",
    "case_4 = geom_growth(m=-10)\n",
    "case_5 = geom_growth(m=0, r=1)\n",
    "case_6 = geom_growth(r=1)\n",
    "case_7 = geom_growth(m=-10, r=1)\n",
    "\n",
    "plt.plot(tvec, case_1, c=\"red\")\n",
    "plt.xlabel('Time')\n",
    "plt.ylabel('Population')\n",
    "plt.title('m>0, r<1');"
   ]
  },
  {
   "cell_type": "code",
   "execution_count": 9,
   "metadata": {},
   "outputs": [
    {
     "data": {
      "image/png": "[encoded data removed]",
      "text/plain": [
       "<Figure size 432x288 with 1 Axes>"
      ]
     },
     "metadata": {
      "needs_background": "light"
     },
     "output_type": "display_data"
    }
   ],
   "source": [
    "plt.plot(tvec, case_2, c=\"red\")\n",
    "plt.xlabel('Time')\n",
    "plt.ylabel('Population')\n",
    "plt.title('m<0, r>1');"
   ]
  },
  {
   "cell_type": "code",
   "execution_count": 10,
   "metadata": {},
   "outputs": [
    {
     "data": {
      "image/png": "[encoded data removed]",
      "text/plain": [
       "<Figure size 432x288 with 1 Axes>"
      ]
     },
     "metadata": {
      "needs_background": "light"
     },
     "output_type": "display_data"
    }
   ],
   "source": [
    "plt.plot(tvec, case_3, c=\"red\")\n",
    "plt.xlabel('Time')\n",
    "plt.ylabel('Population')\n",
    "plt.title('m>=0, r>1');"
   ]
  },
  {
   "cell_type": "code",
   "execution_count": 11,
   "metadata": {},
   "outputs": [
    {
     "data": {
      "image/png": "[encoded data removed]",
      "text/plain": [
       "<Figure size 432x288 with 1 Axes>"
      ]
     },
     "metadata": {
      "needs_background": "light"
     },
     "output_type": "display_data"
    }
   ],
   "source": [
    "plt.plot(tvec, case_4, c=\"red\")\n",
    "plt.xlabel('Time')\n",
    "plt.ylabel('Population')\n",
    "plt.title('m<0, r<1');"
   ]
  },
  {
   "cell_type": "code",
   "execution_count": 12,
   "metadata": {},
   "outputs": [
    {
     "data": {
      "image/png": "[encoded data removed]",
      "text/plain": [
       "<Figure size 432x288 with 1 Axes>"
      ]
     },
     "metadata": {
      "needs_background": "light"
     },
     "output_type": "display_data"
    }
   ],
   "source": [
    "plt.plot(tvec, case_5, c=\"red\")\n",
    "plt.xlabel('Time')\n",
    "plt.ylabel('Population')\n",
    "plt.title('m=0, r=1');"
   ]
  },
  {
   "cell_type": "code",
   "execution_count": 13,
   "metadata": {},
   "outputs": [
    {
     "data": {
      "image/png": "[encoded data removed]",
      "text/plain": [
       "<Figure size 432x288 with 1 Axes>"
      ]
     },
     "metadata": {
      "needs_background": "light"
     },
     "output_type": "display_data"
    }
   ],
   "source": [
    "plt.plot(tvec, case_6, c=\"red\")\n",
    "plt.xlabel('Time')\n",
    "plt.ylabel('Population')\n",
    "plt.title('m>0, r=1');"
   ]
  },
  {
   "cell_type": "code",
   "execution_count": 14,
   "metadata": {},
   "outputs": [
    {
     "data": {
      "image/png": "[encoded data removed]",
      "text/plain": [
       "<Figure size 432x288 with 1 Axes>"
      ]
     },
     "metadata": {
      "needs_background": "light"
     },
     "output_type": "display_data"
    }
   ],
   "source": [
    "plt.plot(tvec, case_7, c=\"red\")\n",
    "plt.xlabel('Time')\n",
    "plt.ylabel('Population')\n",
    "plt.title('m<0, r=1');"
   ]
  }
 ],
 "metadata": {
  "kernelspec": {
   "display_name": "Python 3 (ipykernel)",
   "language": "python",
   "name": "python3"
  },
  "language_info": {
   "codemirror_mode": {
    "name": "ipython",
    "version": 3
   },
   "file_extension": ".py",
   "mimetype": "text/x-python",
   "name": "python",
   "nbconvert_exporter": "python",
   "pygments_lexer": "ipython3",
   "version": "3.9.7"
  }
 },
 "nbformat": 4,
 "nbformat_minor": 1
}
