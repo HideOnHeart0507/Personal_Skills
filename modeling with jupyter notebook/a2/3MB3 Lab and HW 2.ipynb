{
 "cells": [
  {
   "cell_type": "markdown",
   "metadata": {},
   "source": [
    "# Lab 2 - Univariate Linear Discrete-time Deterministic (ULDD) models"
   ]
  },
  {
   "cell_type": "markdown",
   "metadata": {},
   "source": [
    "Author: Irena Papst and Elizabeth O'Meara"
   ]
  },
  {
   "cell_type": "code",
   "execution_count": null,
   "metadata": {},
   "outputs": [],
   "source": [
    "import numpy as np\n",
    "import matplotlib.pyplot as plt"
   ]
  },
  {
   "cell_type": "markdown",
   "metadata": {},
   "source": [
    "## Long-term Behaviour of the Geometric Growth Model"
   ]
  },
  {
   "cell_type": "markdown",
   "metadata": {},
   "source": [
    "In lecture, you began analyzing the geometric growth model as defined in the following equation:\n",
    "\n",
    "$$\n",
    "P_{N + 1} = r P_N + m \n",
    "$$\n",
    "\n",
    "Where $r$ is the per capita reproduction rate ($r > 0$) and $m$ is a constant migration rate that can be either positive or negative. You also found the fixed point (where $P_{N + 1} = P_N$), $P^* = \\frac{m}{1 - r}$. In this model, there are 6 parameter cases:\n",
    "\n",
    "1. $m > 0$ and $r < 1$\n",
    "2. $m < 0$ and $r > 1$\n",
    "3. $m \\geq 0$ and $r > 1$\n",
    "4. $m < 0$ and $r < 1$\n",
    "5. $m = 0$ and $r = 1$\n",
    "6. $m \\neq 0$ and $r = 1$\n",
    "\n",
    "In each of these cases, there will be different long term model behaviours. You have already analyzed the cases 1 and 2 in class, where $P^* > 0$ so that it is biologically relevant."
   ]
  },
  {
   "cell_type": "markdown",
   "metadata": {},
   "source": [
    "-----"
   ]
  },
  {
   "cell_type": "markdown",
   "metadata": {},
   "source": [
    "**Exercise 1**: I will split you into 5 breakout rooms. Each group will be assigned a different range of parameters. As a group, do the following:\n",
    "\n",
    "1. Use cobwebbing to determine **long-term model behaviour** as it relates to the population\n",
    "2. Tie back the long-term behaviour to **parameter interpretation**\n",
    "\n",
    "Once complete, we will take it up and fill in the table below."
   ]
  },
  {
   "cell_type": "markdown",
   "metadata": {},
   "source": [
    "|   Parameter Values  | Long-term Model Behaviour | Parameter Interpretation |\n",
    "|:-------------------:|:-------------------------:|:------------------------:|\n",
    "| $m > 0$, $r < 1$    | Pop goes extinct          | Immigration & Pop decay  |\n",
    "| $m < 0$, $r > 1$    | Pop grows w/out bound     | Emmigration & growth     |\n",
    "| $m \\geq 0$, $r > 1$ |                           |                          |\n",
    "| $m < 0$, $r < 1$    |                           |                          |\n",
    "| $m = 0$ , $r = 1$   |                           |                          |\n",
    "| $m > 0$, $r = 1$    |                           |                          |\n",
    "| $m < 0$, $r = 1$    |                           |                          |"
   ]
  },
  {
   "cell_type": "markdown",
   "metadata": {},
   "source": [
    "-----"
   ]
  },
  {
   "cell_type": "markdown",
   "metadata": {},
   "source": [
    "## Using Python to Simulate a Solution Trajectory"
   ]
  },
  {
   "cell_type": "markdown",
   "metadata": {},
   "source": [
    "Although cobwebbing gives us an idea of the long-term model behviour, we do not know what a solution of this model looks like. We can either find an analytic solution, or we can simply use python to simulate a solution trajectory for a specific set of parameters.\n",
    "\n",
    "In last week's Lab, I introduced for loops as a tool for performing recursive calculations that can simulate solutions to a model. We will use the same methods to simulate a solution to the geometric growth model. However, since there are 7 different scenarios for which we will want to simulate a solution trajectory, copying and pasting the same code over and over, just changing a couple parameters isn't the best idea. For example, if you realize that you have an error in the code, or that there is a better way to do something, you will have to go back and change each of the copies of the code. It is better practice to instead define a function that takes arguments for the parameters that change, and outputs what you want.\n",
    "\n",
    "The following is an example of a function called `introduce` that takes the arguement `name` and outputs a string that says \"My name is `name`\". It's always a good idea to name your function with descriptive verbs, so that you can easily remember what it's supposed to do."
   ]
  },
  {
   "cell_type": "code",
   "execution_count": 1,
   "metadata": {},
   "outputs": [
    {
     "name": "stdout",
     "output_type": "stream",
     "text": [
      "My name is Elizabeth\n"
     ]
    }
   ],
   "source": [
    "def introduce(name):\n",
    "    print(\"My name is \" + name)\n",
    "\n",
    "introduce(name = \"Elizabeth\")"
   ]
  },
  {
   "cell_type": "markdown",
   "metadata": {},
   "source": [
    "When defining functions, you start with the keyword `def` as shown, followed by the name of your function with parentheses. Within the parentheses is where you can include any function arguments (variables or parameters you may want to vary). Similar to for loops, you must include a colon before writing the code that the function executes. Then on the next line you begin the code that you want the function to run. In the example above that is `print(\"My name is \" + name)`. (Code within a function definition must be on indented lines.) \n",
    "\n",
    "To call a function you simply use the function name followed by parentheses with any arguements you need. If your function does not have a default value for each argumement and you try to execute the function while ommitting an arguement you will get an error. See below."
   ]
  },
  {
   "cell_type": "code",
   "execution_count": 2,
   "metadata": {},
   "outputs": [
    {
     "ename": "TypeError",
     "evalue": "introduce() missing 1 required positional argument: 'name'",
     "output_type": "error",
     "traceback": [
      "\u001b[0;31m---------------------------------------------------------------------------\u001b[0m",
      "\u001b[0;31mTypeError\u001b[0m                                 Traceback (most recent call last)",
      "Input \u001b[0;32mIn [2]\u001b[0m, in \u001b[0;36m<module>\u001b[0;34m\u001b[0m\n\u001b[0;32m----> 1\u001b[0m \u001b[43mintroduce\u001b[49m\u001b[43m(\u001b[49m\u001b[43m)\u001b[49m\n",
      "\u001b[0;31mTypeError\u001b[0m: introduce() missing 1 required positional argument: 'name'"
     ]
    }
   ],
   "source": [
    "introduce()"
   ]
  },
  {
   "cell_type": "markdown",
   "metadata": {},
   "source": [
    "If you want to include a default value for arguements to prevent this error, you can do so in the following way:"
   ]
  },
  {
   "cell_type": "code",
   "execution_count": 2,
   "metadata": {},
   "outputs": [
    {
     "name": "stdout",
     "output_type": "stream",
     "text": [
      "My name is Elizabeth\n",
      "My name is Emily\n"
     ]
    }
   ],
   "source": [
    "def introduce(name = \"Elizabeth\"):\n",
    "    print(\"My name is \" + name)\n",
    "\n",
    "introduce()\n",
    "introduce(name = \"Emily\")"
   ]
  },
  {
   "cell_type": "markdown",
   "metadata": {},
   "source": [
    "You can have as many arguements as necessary within the function simply by separating them by a comma. For example:"
   ]
  },
  {
   "cell_type": "code",
   "execution_count": 3,
   "metadata": {},
   "outputs": [
    {
     "name": "stdout",
     "output_type": "stream",
     "text": [
      "My name is Elizabeth O'Meara\n",
      "My name is Emily Smith\n"
     ]
    }
   ],
   "source": [
    "def introduce_fully(first = \"Elizabeth\", last = \"O'Meara\"):\n",
    "    print(\"My name is \" + first + \" \" + last)\n",
    "    \n",
    "introduce_fully()\n",
    "introduce_fully(first = \"Emily\", last = \"Smith\")"
   ]
  },
  {
   "cell_type": "markdown",
   "metadata": {},
   "source": [
    "You can also have a function return a value that you can assign to a variable. For example, the following function takes the arguement `x` and returns the value of `x*3`."
   ]
  },
  {
   "cell_type": "code",
   "execution_count": 4,
   "metadata": {},
   "outputs": [
    {
     "name": "stdout",
     "output_type": "stream",
     "text": [
      "12\n"
     ]
    }
   ],
   "source": [
    "def triple(x):\n",
    "    y = x*3\n",
    "    return y\n",
    "\n",
    "z = triple(x = 4)\n",
    "print(z)"
   ]
  },
  {
   "cell_type": "markdown",
   "metadata": {},
   "source": [
    "When defining functions, try to follow the same naming conventions as in naming variables, ie. short, descriptive names."
   ]
  },
  {
   "cell_type": "markdown",
   "metadata": {},
   "source": [
    "**Exercise 2**: Create a function that simulates the geometric growth model **using the model equation**. Your function should take the arguments $P_0$, $r$, $m$, and a total number of time steps $T$ (not counting $N = 0$). \n",
    "\n",
    "Make sure the output of your function is a vector containing $P_N$ for each simulated time $N$. Not only is this good practice for writing functions, but it will also help you with your homework for the week. \n",
    "\n",
    "*Confidence check*: with $m=10$, $r=0.5$, $P_0=1000$, you should calculate $P_{10} = 20.95703125$."
   ]
  },
  {
   "cell_type": "markdown",
   "metadata": {},
   "source": [
    "**Exercise 3**: Using the function you created in exercise 2, plot a solution trajectory for your assigned parameter range from exercise 1. Is the simulation consistent with your earlier cobwebbing results?"
   ]
  },
  {
   "cell_type": "markdown",
   "metadata": {},
   "source": [
    "-----"
   ]
  },
  {
   "cell_type": "markdown",
   "metadata": {},
   "source": [
    "# Homework 2\n",
    "\n",
    "Homework 2 is due on **Wedneday 2 February at 9 PM**. Please solve each problem either on paper or in this notebook (whichever is more appropriate, unless otherwise indicated). Be sure all solution code is **fully executed** before screenshotting your solution to submit to Crowdmark. Make sure to save copies of all of your work (Jupyter notebook, handwritten solutions), in case a grader wants to verify your work."
   ]
  },
  {
   "cell_type": "markdown",
   "metadata": {},
   "source": [
    "-----"
   ]
  },
  {
   "cell_type": "markdown",
   "metadata": {},
   "source": [
    "## Black-footed ferrets\n",
    "\n",
    "Let $P_N$ be the population count of a group of endangered [black-footed ferrets](https://www.worldwildlife.org/species/black-footed-ferret) in the wild, also known as a [\"business\" of ferrets](https://en.wikipedia.org/wiki/Ferret). Their population is surveyed every year ($N$) and thought to be modelled by the equation\n",
    "\n",
    "$$\n",
    "P_{N + 1} = r P_N + m \n",
    "$$\n",
    "\n",
    "as there is some inate per capita population change each year (_e.g._ reproduction), modelled by the term $rP_N$, as well as some constant migration at rate $m$, thanks to conservationalists breeding black-footed ferrets in captivity and then introducing them into the wild population each year (after the breeding season). \n",
    "\n",
    "For problems 1, 3, and 4, create a *single* plot, including a descriptive legend and axis labels. **Use the model equation given above to numerically simulate solutions (using for loops) instead of the analytical solution to the model** (worked out in another homework problem below).\n",
    "\n",
    "Please re-use whatever code is useful from the lab exercises! You can place it here:"
   ]
  },
  {
   "cell_type": "code",
   "execution_count": null,
   "metadata": {},
   "outputs": [],
   "source": []
  },
  {
   "cell_type": "markdown",
   "metadata": {},
   "source": [
    "-----"
   ]
  },
  {
   "cell_type": "markdown",
   "metadata": {},
   "source": [
    "**Problem 1:** _(10 pts)_ Calculate and plot the number of ferrets over time, if there is no conservation effort (migration) starting from 100 ferrets in year 0, for 15 years total (_i.e._ up to year 14) with\n",
    "\n",
    "(a) $r=0.0194$,\n",
    "\n",
    "(b) $r=-0.0324$,\n",
    "\n",
    "(c) $r=-0.0382$. \n",
    "\n",
    "Be sure to show all three solutions on the same plot and don't forget to include a descriptive legend and axis labels. Remember, this is a discrete model, so there should only be values plotted for discrete times $N = 0, 1, 2, ...$ and not in between."
   ]
  },
  {
   "cell_type": "markdown",
   "metadata": {
    "collapsed": true
   },
   "source": [
    "-----"
   ]
  },
  {
   "cell_type": "markdown",
   "metadata": {},
   "source": [
    "**Problem 2:** _(2 pts)_ Interpret the model parameter $r$ when it is negative in the context of a real-world biological mechanism for this population. What could $r < 0$ possibly be modelling?"
   ]
  },
  {
   "cell_type": "markdown",
   "metadata": {},
   "source": [
    "-----"
   ]
  },
  {
   "cell_type": "markdown",
   "metadata": {},
   "source": [
    "**Problem 3**: _(6 pts)_ Now assuming that 5 ferrets are added by conservationists each year after the breeding season, calculate and plot the number of ferrets over time for cases (b) and (c), with the same initial condition. This time, simulate for a total of 100 years. "
   ]
  },
  {
   "cell_type": "markdown",
   "metadata": {
    "collapsed": true
   },
   "source": [
    "-----"
   ]
  },
  {
   "cell_type": "markdown",
   "metadata": {},
   "source": [
    "**Problem 4**: _(6 pts)_ Still assuming 5 ferrets are added per year, calculate and plot a solution for case (b) over a total of 210 years using three different starting conditions: 35, 100, and 200 ferrets in year 0."
   ]
  },
  {
   "cell_type": "markdown",
   "metadata": {},
   "source": [
    "-----"
   ]
  },
  {
   "cell_type": "markdown",
   "metadata": {
    "collapsed": true
   },
   "source": [
    "**Problem 5:** _(4 pts)_ Based on your simulations above, what can you conclude about the success of this conservation effort to save black-footed ferrets?"
   ]
  },
  {
   "cell_type": "markdown",
   "metadata": {},
   "source": [
    "-----"
   ]
  },
  {
   "cell_type": "markdown",
   "metadata": {},
   "source": [
    "**Problem 6:** _(10 pts)_ Find an analytical solution to \n",
    "\n",
    "$$\n",
    "P_{N+1} = r P_{N} + m \n",
    "$$\n",
    "\n",
    "(_i.e._ an expression for $P_N$ that is in terms of _only_ $P_0$, $N$, and $r$). \n",
    "\n",
    "**Use $\\LaTeX$ to present your solution instead of a handwritten derivation.** Simplify your expression as much as possible.\n",
    "\n",
    "_Hint:_ You may find the following formula for the partial sum of a geometric series useful\n",
    "\n",
    "$$\n",
    "\\sum_{k = 0}^n x^k = \\frac{1- x^{n+1}}{1-x}\n",
    "$$\n",
    "\n",
    "and the $\\LaTeX$ equation environment `align` may be helpful, which is demonstrated here:\n",
    "\n",
    "$$\n",
    "\\begin{align}\n",
    "P_{N+1} &= f(P_N) \\\\\n",
    "P_{N+1} &= r P_{N} + m \n",
    "\\end{align}\n",
    "$$\n",
    "\n",
    "In an `align` environment, `\\\\` creates a new line and `&` denotes an anchor so that all equations are aligned at that point on each line."
   ]
  },
  {
   "cell_type": "markdown",
   "metadata": {
    "collapsed": true
   },
   "source": [
    "-----"
   ]
  },
  {
   "cell_type": "markdown",
   "metadata": {},
   "source": [
    "**Bonus**: (2 pts) Analyze the long-term behaviour of the model using the analytical solution you just derived, _i.e._ consider what happens in the limit $\\lim_{N \\to \\infty} P_N$. You may want to break up your analysis into cases based on $P_0$ and/or $r$. (You may submit a handwritten solution to this problem)."
   ]
  }
 ],
 "metadata": {
  "kernelspec": {
   "display_name": "Python 3 (ipykernel)",
   "language": "python",
   "name": "python3"
  },
  "language_info": {
   "codemirror_mode": {
    "name": "ipython",
    "version": 3
   },
   "file_extension": ".py",
   "mimetype": "text/x-python",
   "name": "python",
   "nbconvert_exporter": "python",
   "pygments_lexer": "ipython3",
   "version": "3.9.7"
  }
 },
 "nbformat": 4,
 "nbformat_minor": 1
}
