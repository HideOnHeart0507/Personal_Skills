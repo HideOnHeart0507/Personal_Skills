{
 "cells": [
  {
   "cell_type": "code",
   "execution_count": 1,
   "id": "2918024d",
   "metadata": {},
   "outputs": [],
   "source": [
    "import numpy as np\n",
    "import pandas as pd\n",
    "import seaborn as sb"
   ]
  },
  {
   "cell_type": "code",
   "execution_count": 2,
   "id": "d16aa778",
   "metadata": {},
   "outputs": [],
   "source": [
    "## start with model map\n",
    "\n",
    "def delta_P(P, Rmax, Pmax):\n",
    "    return Rmax*P*(1-P/Pmax)"
   ]
  },
  {
   "cell_type": "code",
   "execution_count": 3,
   "id": "341cad52",
   "metadata": {},
   "outputs": [
    {
     "name": "stdout",
     "output_type": "stream",
     "text": [
      "[ 0  1  2  3  4  5  6  7  8  9 10]\n"
     ]
    }
   ],
   "source": [
    "## set up inputs\n",
    "\n",
    "## do 10 steps after the initial conditions\n",
    "n_steps = 10\n",
    "N = np.arange(n_steps+1)\n",
    "P = np.zeros(n_steps+1)\n",
    "\n",
    "## parameters \n",
    "P0 = 10\n",
    "Rmax = 2 ## max inate growth rate (per capita)\n",
    "Pmax = 100 ## carrying capacity\n",
    "\n",
    "print(N)"
   ]
  },
  {
   "cell_type": "code",
   "execution_count": 4,
   "id": "1e0f74c0",
   "metadata": {},
   "outputs": [],
   "source": [
    "## simulation\n",
    "\n",
    "for i in N:\n",
    "    if (i==0):\n",
    "        P[i] = P0\n",
    "    else:\n",
    "        P[i] = P[i-1] + delta_P(P[i-1], Rmax, Pmax)"
   ]
  },
  {
   "cell_type": "code",
   "execution_count": 5,
   "id": "bda9fc05",
   "metadata": {},
   "outputs": [
    {
     "name": "stdout",
     "output_type": "stream",
     "text": [
      "[ 10.          28.          68.32       111.607552    85.69774273\n",
      " 110.21116601  87.70347577 109.27243407  89.00800526 108.57551577\n",
      "  89.95369481]\n"
     ]
    }
   ],
   "source": [
    "print(P)"
   ]
  },
  {
   "cell_type": "code",
   "execution_count": 6,
   "id": "24468639",
   "metadata": {},
   "outputs": [],
   "source": [
    "## put data in data frame\n",
    "df = pd.DataFrame(\n",
    "    data = {\n",
    "        \"N\": N,\n",
    "        \"P\": P\n",
    "    }\n",
    ")"
   ]
  },
  {
   "cell_type": "code",
   "execution_count": 7,
   "id": "1642859c",
   "metadata": {},
   "outputs": [
    {
     "data": {
      "text/html": [
       "<div>\n",
       "<style scoped>\n",
       "    .dataframe tbody tr th:only-of-type {\n",
       "        vertical-align: middle;\n",
       "    }\n",
       "\n",
       "    .dataframe tbody tr th {\n",
       "        vertical-align: top;\n",
       "    }\n",
       "\n",
       "    .dataframe thead th {\n",
       "        text-align: right;\n",
       "    }\n",
       "</style>\n",
       "<table border=\"1\" class=\"dataframe\">\n",
       "  <thead>\n",
       "    <tr style=\"text-align: right;\">\n",
       "      <th></th>\n",
       "      <th>N</th>\n",
       "      <th>P</th>\n",
       "    </tr>\n",
       "  </thead>\n",
       "  <tbody>\n",
       "    <tr>\n",
       "      <th>0</th>\n",
       "      <td>0</td>\n",
       "      <td>10.000000</td>\n",
       "    </tr>\n",
       "    <tr>\n",
       "      <th>1</th>\n",
       "      <td>1</td>\n",
       "      <td>28.000000</td>\n",
       "    </tr>\n",
       "    <tr>\n",
       "      <th>2</th>\n",
       "      <td>2</td>\n",
       "      <td>68.320000</td>\n",
       "    </tr>\n",
       "    <tr>\n",
       "      <th>3</th>\n",
       "      <td>3</td>\n",
       "      <td>111.607552</td>\n",
       "    </tr>\n",
       "    <tr>\n",
       "      <th>4</th>\n",
       "      <td>4</td>\n",
       "      <td>85.697743</td>\n",
       "    </tr>\n",
       "  </tbody>\n",
       "</table>\n",
       "</div>"
      ],
      "text/plain": [
       "   N           P\n",
       "0  0   10.000000\n",
       "1  1   28.000000\n",
       "2  2   68.320000\n",
       "3  3  111.607552\n",
       "4  4   85.697743"
      ]
     },
     "execution_count": 7,
     "metadata": {},
     "output_type": "execute_result"
    }
   ],
   "source": [
    "df.head()"
   ]
  },
  {
   "cell_type": "code",
   "execution_count": 8,
   "id": "fa487c6d",
   "metadata": {},
   "outputs": [
    {
     "data": {
      "image/png": "[encoded data removed]",
      "text/plain": [
       "<Figure size 432x288 with 1 Axes>"
      ]
     },
     "metadata": {
      "needs_background": "light"
     },
     "output_type": "display_data"
    }
   ],
   "source": [
    "sb.lineplot(\n",
    "    data = df,\n",
    "    x = \"N\",\n",
    "    y = \"P\"\n",
    ");"
   ]
  }
 ],
 "metadata": {
  "kernelspec": {
   "display_name": "Python 3 (ipykernel)",
   "language": "python",
   "name": "python3"
  },
  "language_info": {
   "codemirror_mode": {
    "name": "ipython",
    "version": 3
   },
   "file_extension": ".py",
   "mimetype": "text/x-python",
   "name": "python",
   "nbconvert_exporter": "python",
   "pygments_lexer": "ipython3",
   "version": "3.8.11"
  }
 },
 "nbformat": 4,
 "nbformat_minor": 5
}
