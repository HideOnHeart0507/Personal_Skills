{
 "cells": [
  {
   "cell_type": "markdown",
   "id": "b1b0c9a4",
   "metadata": {},
   "source": [
    "# Lab 1 - Introduction to Jupyter Notebooks and Basic Python\n"
   ]
  },
  {
   "cell_type": "markdown",
   "id": "90760ae3",
   "metadata": {},
   "source": [
    "The purpose of this lab is to introduce jupyter notebooks and basic python. Moving forward, the labs will help prepare you for your weekly homework assignments by introducing tools, techniques and going over important lecture topics. \n",
    "\n",
    "Author: Elizabeth O'Meara \n",
    "\n",
    "Adapted from a lab written by: Ben Bolker, Steve Walker, Steve Ellner, *et al.*"
   ]
  },
  {
   "cell_type": "markdown",
   "id": "e36d95ac",
   "metadata": {},
   "source": [
    "## Introduction to Syzygy and Jupyter Notebooks"
   ]
  },
  {
   "cell_type": "markdown",
   "id": "5a3ba58b",
   "metadata": {},
   "source": [
    "### Basics of Jupyter Notebooks"
   ]
  },
  {
   "cell_type": "markdown",
   "id": "e9c99843",
   "metadata": {},
   "source": [
    "In jupyter notebooks, cells can have two formats: code or markdown. Code chunks allow you to show and run python code in your document. Later in the lab I will provide examples of code chunks and will have you practice running code in jupyter notebooks. Markdown chunks allow you to include text in your jupyter notebook to accompany your code. You can insert a new chunk below the current chunk by using `Insert/Insert Cell Below` or by selecting the current cell and typing `b`. To insert a new chunk above the current chunk use `Insert/Insert Cell Above` or by selecting the current cell and typing `a`. The defaul format of new cells is code. If you wish to change the format to markdown, you can do so by selecting `Markdown` instead of `Code` in the bar at the top of the window, or by selecting the cell and pressing the `m` key. Similarily to switch the format to code, select `Code` or select the cell and press the `y` key. To run the code or markdown cell, use `ctrl + enter` or `command + enter`, depending on your OS.\n",
    "\n",
    "*Note: to use the keyboard shortcuts, you can either select the cell, as suggested, or if you are currently in a cell, you can press the `esc` key and then type the shortcut. For a list of all shortcuts, press* `h` *when not editing a cell*"
   ]
  },
  {
   "cell_type": "markdown",
   "id": "54d15840",
   "metadata": {},
   "source": [
    "### Basics of Markdown and LaTeX"
   ]
  },
  {
   "cell_type": "markdown",
   "id": "9c3f3656",
   "metadata": {},
   "source": [
    "For those not familiar, markdown is an easy to use markup language used to format text. For anyone that is not familiar, the following is a [markdown guide](https://www.markdownguide.org/basic-syntax/) that contains basic syntax. For now, the only formatiing you will need is how to write **bold** font, *italic* font, or ***bold italicized*** font. You can double click this cell to see how it is done. After looking at the format, re-evaluate the cell as I instructed in the previous section."
   ]
  },
  {
   "cell_type": "markdown",
   "id": "b404a606",
   "metadata": {},
   "source": [
    "One of the other benefits of jupyter notebooks, is that they allow you to use LaTeX formatting, which is a very commonly used tool by mathematicians used to typeset mathematics. The following are some useful examples. You can refer to chapters 3 and 6 of this [document](http://www.docs.is.ed.ac.uk/skills/documents/3722/3722-2014.pdf) for typesetting text and equations. You can refer to this [document](https://www.caam.rice.edu/~heinken/latex/symbols.pdf) for any symbols you may need.\n",
    "\n",
    "- Dollar signs before and after some text specify that it's LaTeX format: $r$\n",
    "- use double dollar signs around text to display math on a line by itself:\n",
    "$$x = y + z + \\ldots\n",
    "$$\n",
    "- Greek letters use a backslash \\ plus the letter name (use capital letters first for uppercase): $\\alpha$, $\\beta$, $\\Xi$\n",
    "- a caret (^) means uppercase and an underscore _ means subscript: $a^2$, $b_x$\n",
    "- curly braces {} are used for grouping: $a^{327}$\n",
    "- `\\frac{}{}` means a fraction: $\\frac{dN}{dt} = rN^{\\theta}$\n",
    "- greater than is >, but greater-than-or-equal is `\\geq`: $a \\geq b$ (and same for `\\leq`)\n",
    "\n",
    "\n",
    "Click on this cell to see how the expressions are written."
   ]
  },
  {
   "cell_type": "markdown",
   "id": "25c55682",
   "metadata": {},
   "source": [
    "Although not required for homework, you will be expected to hand in your final project as a nicely-formatted Jupyter Notebook, thus learning how to use Markdown and LaTeX will be crucial."
   ]
  },
  {
   "cell_type": "markdown",
   "id": "cc75531e",
   "metadata": {},
   "source": [
    "## Basic Python\n",
    "For this course you will be expected to know how to use python. Although most of you should have taken a course that introduces python, I will briefly introduce some important topics."
   ]
  },
  {
   "cell_type": "markdown",
   "id": "509935ac",
   "metadata": {},
   "source": [
    "### Interactive Calculations"
   ]
  },
  {
   "cell_type": "markdown",
   "id": "58611223",
   "metadata": {},
   "source": [
    "Follow the instructions below to perform interactive calculations\n",
    "\n",
    "1. Insert a new code cell below this cell. (refer to previous section for how)\n",
    "2. Type some Python computations into the entry box in the new chunk (for example `1+2`)\n",
    "3. Evaluate the expression by running the cell. (refer to previous section for how)\n",
    "4. Edit your computations to do something different (for example `3*4`)\n",
    "5. Re-evaluate the code chunk."
   ]
  },
  {
   "cell_type": "markdown",
   "id": "1c83af9f",
   "metadata": {},
   "source": [
    "**Exercise 1:** try editing the code to include more then one computation on separate lines. What happens when you re-evaluate?"
   ]
  },
  {
   "cell_type": "markdown",
   "id": "f4fa3036",
   "metadata": {},
   "source": [
    "### Assigning to variables; arithmetic and mathematical operators"
   ]
  },
  {
   "cell_type": "markdown",
   "id": "454cc979",
   "metadata": {},
   "source": [
    "The results of your computations can be stored using `=`; they can then be re-used in other computations. For example:"
   ]
  },
  {
   "cell_type": "code",
   "execution_count": 1,
   "id": "d6fdda95",
   "metadata": {},
   "outputs": [
    {
     "name": "stdout",
     "output_type": "stream",
     "text": [
      "4\n",
      "12\n"
     ]
    },
    {
     "data": {
      "text/plain": [
       "144"
      ]
     },
     "execution_count": 1,
     "metadata": {},
     "output_type": "execute_result"
    }
   ],
   "source": [
    "x = 1+3\n",
    "print(x) ## Prints your results\n",
    "y = 3*x\n",
    "print(y)\n",
    "y**2"
   ]
  },
  {
   "cell_type": "markdown",
   "id": "5d6654cc",
   "metadata": {},
   "source": [
    "You will notice that the last expression `y**2` wasn't stored, but it still automatically printed. By default the notebook will print the last expression, provided it wasn't a variable assignment. What happens if the last line was `z = y**2`? **Try it out**."
   ]
  },
  {
   "cell_type": "markdown",
   "id": "ccd0b2a2",
   "metadata": {},
   "source": [
    "When naming variables, names must start with a letter or an underscore (`_`), and contain letters, numbers, and underscores (*not* spaces!). Varaible names are also case sensitive, meaning that `X` and `x` are different. Names should be short, but long enough to easily understand. Try not to use names that do not relate to what the variable describes. For example, if your variable is the density of apple trees, do not just name it `d`, instead name it `apple_density` or just `density` if you will not be working with multiple densities."
   ]
  },
  {
   "cell_type": "markdown",
   "id": "90381d17",
   "metadata": {},
   "source": [
    "All of the basic arithmetic operations (`+`, `-`, `*`, `/`, `**`) are built into Python, with the usual order of operations; use parentheses as necessary to change the order or if you're uncertain.\n",
    "\n",
    "It is important to note that in your jupyter notebook, Python is storing any variables you create or calculations that you perform **in the order you have executed them**, not in the order they appear in your jupyter notebook. For example, in the three code cells below, try evaluating cells in the following order: 1, 2 then 3,and see what output you get. Now, reset the kernel (background python session running your code) by selecting `Kernel > Restart` in the top menu. This will reset any code you have run. You can use this if you are ever having some weird errors to start fresh. With a clean slate, now try evaluating the cells in the following order: 2, 1 then 3. What happens?"
   ]
  },
  {
   "cell_type": "code",
   "execution_count": 2,
   "id": "9cdd96ac",
   "metadata": {},
   "outputs": [],
   "source": [
    "x = 3 "
   ]
  },
  {
   "cell_type": "code",
   "execution_count": 3,
   "id": "79500b2f",
   "metadata": {},
   "outputs": [],
   "source": [
    "x = 7"
   ]
  },
  {
   "cell_type": "code",
   "execution_count": 4,
   "id": "3ae429bd",
   "metadata": {},
   "outputs": [
    {
     "name": "stdout",
     "output_type": "stream",
     "text": [
      "21\n"
     ]
    }
   ],
   "source": [
    "y = x*3\n",
    "print(y)"
   ]
  },
  {
   "cell_type": "markdown",
   "id": "e445cbc7",
   "metadata": {},
   "source": [
    "**Exercise 2:** suppose we're trying to convert Celsius to Fahrenheit, for which the formula is $F = (9/5 C) + 32$. Does this work without the parentheses? What about the inverse Fahrenheit-to-Celsius conversion, $C = 5/9 (F-32)$ ? Check the conversions (1) 0 Celsius = 32 Fahrenheit, (2) -40 Celsius = -40 Fahrenheit (Note: in math notation, juxtaposition denotes multiplication ($9/5 C$). What happens if you try to do this, instead of using a star for multiplication (`9/5*C`), in Python code?"
   ]
  },
  {
   "cell_type": "markdown",
   "id": "ab7e24ca",
   "metadata": {},
   "source": [
    "### More Advanced Mathematical Functions and Python Libraries"
   ]
  },
  {
   "cell_type": "markdown",
   "id": "90f2085f",
   "metadata": {},
   "source": [
    "The more advanced mathematical functions (logarithm, exponent, sine, cosine, square root, etc.) are implemented in the `numpy` library. We load the `numpy` library, and tell Python we're going to abbreviate its name as `np`, as follows:"
   ]
  },
  {
   "cell_type": "code",
   "execution_count": 5,
   "id": "b766f7c1",
   "metadata": {},
   "outputs": [],
   "source": [
    "import numpy as np"
   ]
  },
  {
   "cell_type": "markdown",
   "id": "08abf3a1",
   "metadata": {},
   "source": [
    "(make sure to `SHIFT-CLICK` on this code chunk to execute it). If it works, it will work silently; Python will only print a message if something goes wrong.\n",
    "\n",
    "Now we can use `np.*`, where `*` is the name of any function from `numpy` that we want to use, in our code (e.g. `np.log` (natural log), `np.exp`, `np.sin`, `np.cos`, `np.sqrt`). To see what functions are available you can go to the [numpy documentation](https://docs.scipy.org/doc/numpy/reference/routines.math.html); you can find this by clicking on `Help/Numpy` in the menu and searching for `Mathematical functions` in the web page that's opened.\n",
    "\n",
    "The notebook also does **tab completion**, where it gives you hints about what functions are available. "
   ]
  },
  {
   "cell_type": "markdown",
   "id": "fba57543",
   "metadata": {},
   "source": [
    "**Exercise 3:** insert a code chunk (`Insert/Cell Below` or `b`) and type `np.lo`, then type TAB to see which numpy functions begin with \"np.lo\"). This works for all Python functions, and for variables you have defined."
   ]
  },
  {
   "cell_type": "markdown",
   "id": "ae6e3cc4",
   "metadata": {},
   "source": [
    "**Exercise 4:** edit your code chunk to compute the value of $e^{(sin(2))}$ (it should be 2.4825 ...) (note that Python doesn't know what `e` is: you have to use the exponential function `exp`, and you must preface all `numpy` functions with `np.`)."
   ]
  },
  {
   "cell_type": "markdown",
   "id": "14387f0e",
   "metadata": {},
   "source": [
    "## First model: a leaky-bucket model\n",
    "\n",
    "Suppose that in a queue (a group of people or things waiting for service - e.g. people\n",
    "waiting at a bank, or jobs waiting for processing on a computer system, or cars\n",
    "in line at a toll booth), 25% (rounded) of\n",
    "the people waiting are served every hour and 10 new people arrive every hour.\n",
    "(For precision, we will assume that the 10 new people arrive at the *end*\n",
    "of the hour and are not counted in the fraction served.)\n",
    "\n",
    "Suppose the queue initially has one individual waiting.  We could run this model by brute force by\n",
    "typing (or cutting and pasting)"
   ]
  },
  {
   "cell_type": "code",
   "execution_count": 6,
   "id": "2e14ec89",
   "metadata": {},
   "outputs": [],
   "source": [
    "N = 1"
   ]
  },
  {
   "cell_type": "markdown",
   "id": "c057249f",
   "metadata": {},
   "source": [
    "to set the initial state of the queue and then typing"
   ]
  },
  {
   "cell_type": "code",
   "execution_count": 7,
   "id": "b040d944",
   "metadata": {},
   "outputs": [],
   "source": [
    "N  = N - round(0.25 * N)\n",
    "N  = N + 10"
   ]
  },
  {
   "cell_type": "markdown",
   "id": "3ea60184",
   "metadata": {},
   "source": [
    "over and over again. (This example shows you that a Jupyter notebook remembers what has been run in previous chunks.) Of course, this would be extremely tedious (we also wouldn't see the \n",
    "results unless we typed `N` by itself from time to time\n",
    "to see where we'd gotten).  This approach doesn't save the results\n",
    "over time; we can only see the current state of the system.\n",
    "\n",
    "Suppose that we decide we want to run the system for 20 steps.\n",
    "We can use a **loop** (or a **for loop**): in the code below,\n",
    "\n",
    "- `i` is a *dummy variable* or *loop variable*\n",
    "- `range(20)` says we want to set `i` to each value ranging from 0 to 19 (ranges etc. in Python **always** start from zero and go to `n-1`)\n",
    "- the colon at the end of the line beginning with `for` is necessary \n",
    "- both of the *indented* lines of code get run each time through the loop"
   ]
  },
  {
   "cell_type": "code",
   "execution_count": 8,
   "id": "ce09da33",
   "metadata": {},
   "outputs": [
    {
     "name": "stdout",
     "output_type": "stream",
     "text": [
      "38\n"
     ]
    }
   ],
   "source": [
    "N = 1\n",
    "for i in range(20):\n",
    "    N  = N - round(0.25 * N)\n",
    "    N  = N + 10\n",
    "print(N)"
   ]
  },
  {
   "cell_type": "markdown",
   "id": "870116f5",
   "metadata": {},
   "source": [
    "However, this only tells us the last value, i.e. `N(19)`. What if we want to keep the values of $\\{N(0), ... N(19)\\}$? Using the `numpy` function `zeros`, we can create an **array** (vector) of zeros; set the first (zeroth!) value to the initial condition, and then go through the loop. `N[i]` refers to the `i`th value from the vector `N`. We also use `numpy`'s `arange` function to set up an array containing the values from 0 to 19."
   ]
  },
  {
   "cell_type": "code",
   "execution_count": 9,
   "id": "655005ab",
   "metadata": {},
   "outputs": [
    {
     "name": "stdout",
     "output_type": "stream",
     "text": [
      "[ 1. 11. 18. 24. 28. 31. 33. 35. 36. 37. 38. 38. 38. 38. 38. 38. 38. 38.\n",
      " 38. 38.]\n"
     ]
    }
   ],
   "source": [
    "N = np.zeros(20)\n",
    "N[0] = 1\n",
    "tvec = np.arange(20)  ## 0 ... 19\n",
    "for t in tvec[:19]:  ## we have to stop at 19 (see discussion below)\n",
    "    N[t+1]  = N[t] - round(0.25 * N[t])\n",
    "    N[t+1]  = N[t+1] + 10\n",
    "print(N)"
   ]
  },
  {
   "cell_type": "markdown",
   "id": "db6b14ff",
   "metadata": {},
   "source": [
    "One of the hardest things to get right in modeling is figuring out the edges, i.e. how to start and end the simulation. The code above is computing `N[t+1]`, and the largest element of the array we've set up is `N[19]` (again, Python array indices start from 0, and end at **one less than the length**). If we try to run `for t in tvec:` we'll get an error (*try it and see!*), so we subset the time vector using `tvec[:19]`, which starts at 0 (since there is nothing before the colon) and ends at **18** (following the Python convention of \"stop at one less than the number\").\n",
    "\n",
    "Drawing a picture is one of the best ways to understand model output. To accomplish this, we `import` the `matplotlib.pyplot` library, abbreviated as `plt`, and draw a simple picture."
   ]
  },
  {
   "cell_type": "code",
   "execution_count": 10,
   "id": "a5bd588a",
   "metadata": {},
   "outputs": [
    {
     "data": {
      "image/png": "[encoded data removed]",
      "text/plain": [
       "<Figure size 432x288 with 1 Axes>"
      ]
     },
     "metadata": {
      "needs_background": "light"
     },
     "output_type": "display_data"
    }
   ],
   "source": [
    "import matplotlib.pyplot as plt\n",
    "## next line is 'magic' to make the plot appear in the notebook\n",
    "%matplotlib inline\n",
    "plt.plot(tvec,N);  ## semicolon suppresses ugly output"
   ]
  },
  {
   "cell_type": "markdown",
   "id": "797a2c7d",
   "metadata": {},
   "source": [
    "There's a bunch of stuff you can do with the plot; change colours (`c=`), add points (`marker=`), set the axes limits, title, label, etc. Refer to the [matplotlib documentation pages](https://matplotlib.org/stable/api/index) to find the appropriate functions to customize your plots."
   ]
  },
  {
   "cell_type": "markdown",
   "id": "c2aa94d4",
   "metadata": {},
   "source": [
    "Now instead, let 35% of people be served every hour."
   ]
  },
  {
   "cell_type": "code",
   "execution_count": 11,
   "id": "04193b12",
   "metadata": {},
   "outputs": [
    {
     "name": "stdout",
     "output_type": "stream",
     "text": [
      "[ 1. 11. 17. 21. 24. 26. 27. 28. 28. 28. 28. 28. 28. 28. 28. 28. 28. 28.\n",
      " 28. 28.]\n"
     ]
    }
   ],
   "source": [
    "N_35 = np.zeros(20)\n",
    "N_35[0] = 1\n",
    "tvec = np.arange(20)  ## 0 ... 19\n",
    "for t in tvec[:19]:  ## we have to stop at 19 (see discussion below)\n",
    "    N_35[t+1]  = N_35[t] - round(0.35 * N_35[t])\n",
    "    N_35[t+1]  = N_35[t+1] + 10\n",
    "print(N_35)"
   ]
  },
  {
   "cell_type": "markdown",
   "id": "44561cee",
   "metadata": {},
   "source": [
    "You can plot more than one line on a graph by using more than one `plt.plot()` call; if you want to add a legend, you need to plan ahead a bit by adding labels to each line as you plot it. Suppose you want to plot the solution to the model where 25% of people are served and the model where 35% of people are served on the same plot. We can use the following code:"
   ]
  },
  {
   "cell_type": "code",
   "execution_count": 12,
   "id": "7d6f7c34",
   "metadata": {},
   "outputs": [
    {
     "data": {
      "image/png": "[encoded data removed]",
      "text/plain": [
       "<Figure size 432x288 with 1 Axes>"
      ]
     },
     "metadata": {
      "needs_background": "light"
     },
     "output_type": "display_data"
    }
   ],
   "source": [
    "plt.plot(tvec,N_35,c=\"blue\", marker=\".\",label=\"35%\")\n",
    "plt.ylim(0,50)\n",
    "plt.plot(tvec,N, c=\"red\",marker=\".\",label=\"25%\")\n",
    "plt.legend(loc=\"lower right\");"
   ]
  },
  {
   "cell_type": "markdown",
   "id": "cfdbcc6f",
   "metadata": {},
   "source": [
    "**Exercise 5:** Suppose you intend to spread a rumor about someone. Every hour, anyone that knows the rumor tells two new people. If initially you are the only person that knows the rumor, how many people have heard the rumor after 10 hours? Save the number of people that know the rumor each hour until 10 hours have passed. Plot the results.  In your plot, make sure you have descriptive plot and axes titles. If you do not know how to do this, refer to the [matplotlib documentation pages](https://matplotlib.org/stable/api/index) to find the appropriate functions."
   ]
  },
  {
   "cell_type": "markdown",
   "id": "f8c6e8c6",
   "metadata": {},
   "source": [
    "**Exercise 6:** What happens if in the beginning two people know the rumour? How many people have heard the rumor after 10 hours? Save the number of people that know the rumor each hour until 10 hours have passed. Plot the results of this exercise and the results of exercise 5 on the same plot, where exercise 5 is red and exercise 6 is blue. Include a legend that labels how many people knew the rumor originally, with an appropriate title."
   ]
  },
  {
   "cell_type": "markdown",
   "id": "2723092e",
   "metadata": {},
   "source": [
    "------"
   ]
  },
  {
   "cell_type": "markdown",
   "id": "e2ce832e",
   "metadata": {},
   "source": [
    "------"
   ]
  },
  {
   "cell_type": "markdown",
   "id": "f8487c5e",
   "metadata": {},
   "source": [
    "# Homework 1 - Due Wednesday Jan 26th at 9:00 PM on Crowdmark\n",
    "\n",
    "Please solve each problem either on paper or in this notebook (whichever is more appropriate). Be sure all solution code is **fully executed** before screenshotting your solution to submit to Crowdmark. Make sure to save your notebook with the code executed before submitting. "
   ]
  },
  {
   "cell_type": "markdown",
   "id": "2d30f6ff",
   "metadata": {},
   "source": [
    "-------"
   ]
  },
  {
   "cell_type": "markdown",
   "id": "5174a136",
   "metadata": {},
   "source": [
    "**Problem 1:** _(2 pts)_ Using LaTeX, typeset the analytic solution to the geometric growth model (model introduced in lecture 4, analytic solution discussed in lecture 5). Be sure to execute the cell so that the LaTeX typesetting actually displays nicely, instead of showing the LaTeX syntax."
   ]
  },
  {
   "cell_type": "markdown",
   "id": "5e5e0230",
   "metadata": {},
   "source": [
    "-------"
   ]
  },
  {
   "cell_type": "markdown",
   "id": "c60dee72",
   "metadata": {},
   "source": [
    "---\n",
    "\n",
    "**Problem 2:** _(2 pts)_ Find the [`numpy` documentation](https://numpy.org/doc/stable/) page for the `shape` method of `ndarray` objects. Using the method description and examples on this documentation page, describe _in your own words_ what the `shape` method does. \n",
    "\n",
    "---"
   ]
  },
  {
   "cell_type": "markdown",
   "id": "8e2747c5",
   "metadata": {},
   "source": [
    "**Problem 3:** _(4 pts)_ The following plotting code isn't working---there's a bug (an error in how the code is written)! Describe the problem with the existing code and modify it to fix the bug."
   ]
  },
  {
   "cell_type": "code",
   "execution_count": 13,
   "id": "b6ed92da",
   "metadata": {},
   "outputs": [
    {
     "ename": "NameError",
     "evalue": "name 'dashed' is not defined",
     "output_type": "error",
     "traceback": [
      "\u001b[0;31m---------------------------------------------------------------------------\u001b[0m",
      "\u001b[0;31mNameError\u001b[0m                                 Traceback (most recent call last)",
      "\u001b[0;32m/tmp/ipykernel_200/348219742.py\u001b[0m in \u001b[0;36m<module>\u001b[0;34m\u001b[0m\n\u001b[1;32m      3\u001b[0m \u001b[0mx\u001b[0m \u001b[0;34m=\u001b[0m \u001b[0mnp\u001b[0m\u001b[0;34m.\u001b[0m\u001b[0marange\u001b[0m\u001b[0;34m(\u001b[0m\u001b[0mn\u001b[0m\u001b[0;34m)\u001b[0m\u001b[0;34m\u001b[0m\u001b[0;34m\u001b[0m\u001b[0m\n\u001b[1;32m      4\u001b[0m \u001b[0my\u001b[0m \u001b[0;34m=\u001b[0m \u001b[0mrng\u001b[0m\u001b[0;34m.\u001b[0m\u001b[0mintegers\u001b[0m\u001b[0;34m(\u001b[0m\u001b[0mlow\u001b[0m\u001b[0;34m=\u001b[0m\u001b[0;36m0\u001b[0m\u001b[0;34m,\u001b[0m \u001b[0mhigh\u001b[0m\u001b[0;34m=\u001b[0m\u001b[0;36m10\u001b[0m\u001b[0;34m,\u001b[0m \u001b[0msize\u001b[0m\u001b[0;34m=\u001b[0m\u001b[0mn\u001b[0m\u001b[0;34m)\u001b[0m\u001b[0;34m\u001b[0m\u001b[0;34m\u001b[0m\u001b[0m\n\u001b[0;32m----> 5\u001b[0;31m \u001b[0mplt\u001b[0m\u001b[0;34m.\u001b[0m\u001b[0mplot\u001b[0m\u001b[0;34m(\u001b[0m\u001b[0mx\u001b[0m\u001b[0;34m,\u001b[0m \u001b[0my\u001b[0m\u001b[0;34m,\u001b[0m \u001b[0mlinestyle\u001b[0m \u001b[0;34m=\u001b[0m \u001b[0mdashed\u001b[0m\u001b[0;34m)\u001b[0m\u001b[0;34m;\u001b[0m\u001b[0;34m\u001b[0m\u001b[0;34m\u001b[0m\u001b[0m\n\u001b[0m",
      "\u001b[0;31mNameError\u001b[0m: name 'dashed' is not defined"
     ]
    }
   ],
   "source": [
    "rng = np.random.default_rng(12345)\n",
    "n = 10\n",
    "x = np.arange(n)\n",
    "y = rng.integers(low=0, high=10, size=n)\n",
    "plt.plot(x, y, linestyle = dashed);"
   ]
  },
  {
   "cell_type": "markdown",
   "id": "966a2567",
   "metadata": {},
   "source": [
    "------"
   ]
  },
  {
   "cell_type": "markdown",
   "id": "75cda303",
   "metadata": {},
   "source": [
    "**Problem 4**: _(4 pts)_ Recreate your plot from lab exercise 5 using the `seaborn` package with all of the same plot elements, including plot title and axes titles. (The `seaborn` package will be useful for your final projects.) Refer to the [seaborn documentation](https://seaborn.pydata.org/api.html) for help."
   ]
  },
  {
   "cell_type": "markdown",
   "id": "a2db0758",
   "metadata": {},
   "source": [
    "------"
   ]
  },
  {
   "cell_type": "markdown",
   "id": "dbdc9db6",
   "metadata": {},
   "source": [
    "**Problem 5**: _(6 pts)_ Recreate your plot from lab exercise 6 using the `seaborn` package with all of the same plot elements, including plot title, axes titles, and legend."
   ]
  }
 ],
 "metadata": {
  "kernelspec": {
   "display_name": "Python 3 (ipykernel)",
   "language": "python",
   "name": "python3"
  },
  "language_info": {
   "codemirror_mode": {
    "name": "ipython",
    "version": 3
   },
   "file_extension": ".py",
   "mimetype": "text/x-python",
   "name": "python",
   "nbconvert_exporter": "python",
   "pygments_lexer": "ipython3",
   "version": "3.9.7"
  }
 },
 "nbformat": 4,
 "nbformat_minor": 5
}
