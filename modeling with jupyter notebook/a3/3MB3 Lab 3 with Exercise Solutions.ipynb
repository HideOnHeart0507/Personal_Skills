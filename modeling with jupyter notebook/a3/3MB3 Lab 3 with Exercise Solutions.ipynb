{
 "cells": [
  {
   "cell_type": "markdown",
   "id": "a20d4932",
   "metadata": {},
   "source": [
    "# Lab 3 - Univariate Non-linear Discrete-time Deterministic (UNDD) models"
   ]
  },
  {
   "cell_type": "markdown",
   "id": "5df5dd8a",
   "metadata": {},
   "source": [
    "Authors: Irena Papst and Elizabeth O'Meara"
   ]
  },
  {
   "cell_type": "code",
   "execution_count": 1,
   "id": "f938d942",
   "metadata": {},
   "outputs": [],
   "source": [
    "import numpy as np\n",
    "import pandas as pd\n",
    "import seaborn as sns\n",
    "import matplotlib.pyplot as plt"
   ]
  },
  {
   "cell_type": "markdown",
   "id": "eae13ca7",
   "metadata": {},
   "source": [
    "## Analysis of the Logistic Growth Model"
   ]
  },
  {
   "cell_type": "markdown",
   "id": "b780954c",
   "metadata": {},
   "source": [
    "In lecture, your professor introduced the logistic growth model as an example of a Univariate Non-linear Discrete-time Deterministic model. It is described by the following difference equation:\n",
    "\n",
    "$$\n",
    "\\Delta P = R_{max}P \\left (1-\\frac{P}{P_{max}} \\right )\n",
    "$$"
   ]
  },
  {
   "cell_type": "markdown",
   "id": "0839d4d1",
   "metadata": {},
   "source": [
    "Since $\\Delta P = P_{N+1}-P_{N}$, the fixed points of this model occur when $\\Delta P=0$. In class, you discovered that the fixed points of this model are $P^*=0$ and $P^*=P_{max}$. To determine the stability of the fixed points, we can use the following theorem derived in lecture 7.\n",
    "\n",
    "**Theorem:** Given the equation $P_{N+1}=f(P_{N})$ where $P^*$ is the fixed point, if $|f'(P^*)| < 1$, then the fixed point is stable. If $|f'(P^*)| > 1$, then the fixed point is unstable. If $|f'(P^*)| = 1$, we cannot determine the stability.\n",
    "\n",
    "In order to use this theorem, we must transform our model back to the form, $P_{N+1}=f(P_{N})$. Let $\\Delta P = P_{N+1}-P_{N}$ and $P=P_N$, then we get the following equation.\n",
    "\n",
    "$$\n",
    "P_{N+1} = R_{max}P_N \\left (1-\\frac{P_N}{P_{max}} \\right )+P_N\n",
    "$$"
   ]
  },
  {
   "cell_type": "markdown",
   "id": "ac9af35e",
   "metadata": {},
   "source": [
    "**Exercise 1**: Using the theorem derived in class, determine the ranges of parameters for which $P^*=0$ and $P^*=P_{max}$ are stable. Similarily for unstable."
   ]
  },
  {
   "cell_type": "markdown",
   "id": "57fa22bf",
   "metadata": {},
   "source": [
    "\\begin{equation}\n",
    "f' = \\frac{-2R_{max}P_N}{P_{max}} + 1 + R_{max}\n",
    "\\end{equation}\n",
    "\n",
    "\\begin{equation}\n",
    "f'(0) = 1 + R_{max}\n",
    "\\end{equation}\n",
    "\n",
    "**0 is stable**:\n",
    "\n",
    "\\begin{equation}\n",
    "|1 + R_{max}| < 1\n",
    "\\end{equation}\n",
    "\n",
    "\\begin{equation}\n",
    "-1 < 1 + R_{max} < 1\n",
    "\\end{equation}\n",
    "\n",
    "\\begin{equation}\n",
    "-2 < R_{max} < 0\n",
    "\\end{equation}\n",
    "\n",
    "**0 is unstable**:\n",
    "\n",
    "\\begin{equation}\n",
    "-2 > R_{max}, R_{max} > 0\n",
    "\\end{equation}\n",
    "\n",
    "\\begin{equation}\n",
    "f'(P_{max}) = 1 - R_{max}\n",
    "\\end{equation}\n",
    "\n",
    "**$P_{max}$ is stable**:\n",
    "\n",
    "\\begin{equation}\n",
    "|1 - R_{max}| < 1\n",
    "\\end{equation}\n",
    "\n",
    "\\begin{equation}\n",
    "-1 < 1 - R_{max} < 1\n",
    "\\end{equation}\n",
    "\n",
    "\\begin{equation}\n",
    "-2 < -R_{max} < 0\n",
    "\\end{equation}\n",
    "\n",
    "\\begin{equation}\n",
    "2 > R_{max} > 0\n",
    "\\end{equation}\n",
    "\n",
    "**$P_{max}$ is unstable**:\n",
    "\n",
    "\\begin{equation}\n",
    "2 < R_{max}, R_{max} < 0\n",
    "\\end{equation}"
   ]
  },
  {
   "cell_type": "markdown",
   "id": "70ef1c6c",
   "metadata": {},
   "source": [
    "$P^* = 0$:\n",
    "* stable: $-2<R_{max}<0$\n",
    "* unstable: $R_{max}<-2$, or, $R_{max}>0$\n",
    "\n",
    "$P^* = P_{max}$:\n",
    "* stable: $0<R_{max}<2$\n",
    "* unstable: $R_{max}<0$, or, $R_{max}>2$"
   ]
  },
  {
   "cell_type": "markdown",
   "id": "2867bc70",
   "metadata": {},
   "source": [
    "**Exercise 2**: Define a function that simulates the logistic growth model. Your functions should take the arguements $P_0$, $P_{max}$, $R_{max}$, and a total number of time steps $T$ (not counting $N = 0$). Make sure the output of your function is a vector containing $P_N$ for each simulated time $N$.\n",
    "\n",
    "Confidence check: with $R_{max}=0.5$, $P_{max}=100$, $P_0=50$, you should get: $P_{10}=99.821730$."
   ]
  },
  {
   "cell_type": "code",
   "execution_count": 2,
   "id": "6e473be3",
   "metadata": {},
   "outputs": [
    {
     "name": "stdout",
     "output_type": "stream",
     "text": [
      "99.82172983576056\n"
     ]
    }
   ],
   "source": [
    "def logistic_mod(r=0.5,Pmax=100, P0=50, T=10):\n",
    "    P=np.zeros(T+1)\n",
    "    P[0]=P0\n",
    "    tvec=np.arange(T+1)\n",
    "    for i in tvec:\n",
    "        if (i==0):\n",
    "            P[i] = P0\n",
    "        else:\n",
    "            delta_P = r*P[i-1]*(1-P[i-1]/Pmax)\n",
    "            P[i] = P[i-1] + delta_P\n",
    "    \n",
    "    return P\n",
    "\n",
    "P = logistic_mod()\n",
    "print(P[10])"
   ]
  },
  {
   "cell_type": "markdown",
   "id": "828e3fb2",
   "metadata": {},
   "source": [
    "## Aggregating multiple simulation results for plotting"
   ]
  },
  {
   "cell_type": "markdown",
   "id": "0d60fffe",
   "metadata": {},
   "source": [
    "It is easy to show several simulations in the same plot using `seaborn` if we first create a table that contains data from all of the simulations, provided there is a column that identifies each simulation. For these examples, we will use the function we wrote in Lab 2 to simulate solutions to the geometric growth model."
   ]
  },
  {
   "cell_type": "code",
   "execution_count": 3,
   "id": "26ae459a",
   "metadata": {},
   "outputs": [],
   "source": [
    "def geom_growth(m=10, r=0.5, P0=1000, T=10):\n",
    "    tvec = np.arange(T + 1)\n",
    "    P = np.zeros(T + 1)\n",
    "    P[0] = P0\n",
    "    \n",
    "    for t in tvec[:T]:\n",
    "        P[t + 1] = r*P[t] + m\n",
    "    \n",
    "    return(tvec, P)"
   ]
  },
  {
   "cell_type": "markdown",
   "id": "e7d50bb1",
   "metadata": {},
   "source": [
    "First we create a dataframe using the `pandas` function `DataFrame()`, that has the columns `time` and `P`. I have also added a column for the value of `r`, as a way to identify each simulation, since that's what we will vary between them. "
   ]
  },
  {
   "cell_type": "code",
   "execution_count": 4,
   "id": "1d50b8a0",
   "metadata": {},
   "outputs": [
    {
     "name": "stdout",
     "output_type": "stream",
     "text": [
      "    time            P    r\n",
      "0      0  1000.000000  0.5\n",
      "1      1   510.000000  0.5\n",
      "2      2   265.000000  0.5\n",
      "3      3   142.500000  0.5\n",
      "4      4    81.250000  0.5\n",
      "5      5    50.625000  0.5\n",
      "6      6    35.312500  0.5\n",
      "7      7    27.656250  0.5\n",
      "8      8    23.828125  0.5\n",
      "9      9    21.914062  0.5\n",
      "10    10    20.957031  0.5\n"
     ]
    }
   ],
   "source": [
    "r=0.5\n",
    "tvec, P = geom_growth(r=r)\n",
    "\n",
    "df1 = pd.DataFrame({\n",
    "    'time': tvec,\n",
    "    'P': P,\n",
    "    'r': np.repeat(r, len(P))\n",
    "})\n",
    "\n",
    "print(df1)"
   ]
  },
  {
   "cell_type": "markdown",
   "id": "51b3a75f",
   "metadata": {},
   "source": [
    "Now I simulate another trajectory, instead with $r=0.8$, and create a dataframe."
   ]
  },
  {
   "cell_type": "code",
   "execution_count": 5,
   "id": "0e9f56df",
   "metadata": {},
   "outputs": [
    {
     "name": "stdout",
     "output_type": "stream",
     "text": [
      "    time            P    r\n",
      "0      0  1000.000000  0.8\n",
      "1      1   810.000000  0.8\n",
      "2      2   658.000000  0.8\n",
      "3      3   536.400000  0.8\n",
      "4      4   439.120000  0.8\n",
      "5      5   361.296000  0.8\n",
      "6      6   299.036800  0.8\n",
      "7      7   249.229440  0.8\n",
      "8      8   209.383552  0.8\n",
      "9      9   177.506842  0.8\n",
      "10    10   152.005473  0.8\n"
     ]
    }
   ],
   "source": [
    "r=0.8\n",
    "tvec, P=geom_growth(r=r)\n",
    "\n",
    "df2 = pd.DataFrame({\n",
    "    'time': tvec,\n",
    "    'P': P,\n",
    "    'r': np.repeat(r, len(P))\n",
    "})\n",
    "\n",
    "print(df2)"
   ]
  },
  {
   "cell_type": "markdown",
   "id": "95571c54",
   "metadata": {},
   "source": [
    "Now, we can stack these two dataframes so that we have a single dataframe with all of the data we wish to plot. To accomplish this, use the `pandas` function `concat()`. In the function, the dataframes we wish to combine are enclosed in square brackets and separated by a comma. We then tell the function to stack them vertically (row-wise) by setting `axis`$=0$ (that's the row axis of the table). I also include the argument `ignore_index=True` so that the old row indices are not carried over into the new dataframe, but instead the new, longer , table is reindexed in a logical way."
   ]
  },
  {
   "cell_type": "code",
   "execution_count": 6,
   "id": "0ddf7db9",
   "metadata": {},
   "outputs": [
    {
     "name": "stdout",
     "output_type": "stream",
     "text": [
      "    time            P    r\n",
      "0      0  1000.000000  0.5\n",
      "1      1   510.000000  0.5\n",
      "2      2   265.000000  0.5\n",
      "3      3   142.500000  0.5\n",
      "4      4    81.250000  0.5\n",
      "5      5    50.625000  0.5\n",
      "6      6    35.312500  0.5\n",
      "7      7    27.656250  0.5\n",
      "8      8    23.828125  0.5\n",
      "9      9    21.914062  0.5\n",
      "10    10    20.957031  0.5\n",
      "11     0  1000.000000  0.8\n",
      "12     1   810.000000  0.8\n",
      "13     2   658.000000  0.8\n",
      "14     3   536.400000  0.8\n",
      "15     4   439.120000  0.8\n",
      "16     5   361.296000  0.8\n",
      "17     6   299.036800  0.8\n",
      "18     7   249.229440  0.8\n",
      "19     8   209.383552  0.8\n",
      "20     9   177.506842  0.8\n",
      "21    10   152.005473  0.8\n"
     ]
    }
   ],
   "source": [
    "df = pd.concat([df1, df2], axis=0, ignore_index=True)\n",
    "print(df)"
   ]
  },
  {
   "cell_type": "markdown",
   "id": "b7fd200d",
   "metadata": {},
   "source": [
    "Now within `sns.lineplot()`, we set `x='time'` and `y='P'`, but now we can plot each simulation with a different colour easily using the `hue` arguement. We can either use the default colours, or we can choose our own colours using the `palette` function (see example). "
   ]
  },
  {
   "cell_type": "code",
   "execution_count": 7,
   "id": "91c043ba",
   "metadata": {},
   "outputs": [
    {
     "data": {
      "image/png": "[encoded data removed]",
      "text/plain": [
       "<Figure size 432x288 with 1 Axes>"
      ]
     },
     "metadata": {
      "needs_background": "light"
     },
     "output_type": "display_data"
    }
   ],
   "source": [
    "sns.lineplot(data=df, x='time', y='P', hue='r', palette=['r', 'g'])\n",
    "plt.legend(loc='center right', title='r')\n",
    "plt.title('Geometric model map simulations');"
   ]
  },
  {
   "cell_type": "markdown",
   "id": "4cc7badd",
   "metadata": {},
   "source": [
    "**Exercise 3**: Update your logistic growth funciton to output a dataframe containing the following 3 columns: $P$, $time$ and $R_{max}$."
   ]
  },
  {
   "cell_type": "code",
   "execution_count": 3,
   "id": "fd6c598b",
   "metadata": {},
   "outputs": [],
   "source": [
    "def logistic_mod(r=0.5,Pmax=100, P0=50, T=10):\n",
    "    P=np.zeros(T+1)\n",
    "    P[0]=P0\n",
    "    tvec=np.arange(T+1)\n",
    "    for i in tvec:\n",
    "        if (i==0):\n",
    "            P[i] = P0\n",
    "        else:\n",
    "            delta_P = r*P[i-1]*(1-P[i-1]/Pmax)\n",
    "            P[i] = P[i-1] + delta_P\n",
    "    \n",
    "    df = {'time': tvec,\n",
    "       'P': P,\n",
    "       'Rmax': np.repeat(r, len(P))\n",
    "    }\n",
    "    \n",
    "    df = pd.DataFrame(df)\n",
    "    \n",
    "    return df"
   ]
  },
  {
   "cell_type": "markdown",
   "id": "2e55dd65",
   "metadata": {},
   "source": [
    "**Exercise 4**: Using your finalized function, using $P_{max}=100$, $P_0=50$, $T=10$, run a simulation for the following 4 scenarios (where changing $R_{max}$ will reach the desired outcome):\n",
    "\n",
    "1. $P^*=0$ is stable\n",
    "2. $P^*=0$ is unstable\n",
    "1. $P^*=P_{max}$ is stable\n",
    "2. $P^*=P_{max}$ is unstable\n",
    "\n",
    "Then, using `seaborn` as described, plot each of these simulations on the same plotting window, with a legend describing the value of $R_{max}$."
   ]
  },
  {
   "cell_type": "code",
   "execution_count": 4,
   "id": "ad041f51",
   "metadata": {},
   "outputs": [
    {
     "data": {
      "image/png": "[encoded data removed]",
      "text/plain": [
       "<Figure size 432x288 with 1 Axes>"
      ]
     },
     "metadata": {
      "needs_background": "light"
     },
     "output_type": "display_data"
    }
   ],
   "source": [
    "df1=logistic_mod(r=-0.5)\n",
    "df3=logistic_mod(r=-1)\n",
    "df4=logistic_mod(r=1)\n",
    "df6=logistic_mod(r=0.5)\n",
    "\n",
    "df = pd.concat([df1, df3, df4, df6], axis=0)\n",
    "\n",
    "df.reset_index(inplace=True)\n",
    "\n",
    "sns.lineplot(data=df, x='time', y='P', hue='Rmax')\n",
    "plt.legend(loc='center right', title='Rmax')\n",
    "plt.title('Stability Scenarios based on Rmax');"
   ]
  },
  {
   "cell_type": "markdown",
   "id": "78051262",
   "metadata": {},
   "source": [
    "-----"
   ]
  },
  {
   "cell_type": "markdown",
   "id": "83c6c91a",
   "metadata": {},
   "source": [
    "# Homework 3\n",
    "\n",
    "Homework 3 is due on **Wedneday 9 February at 9 PM**. Please solve each problem either on paper or in this notebook (whichever is more appropriate, unless otherwise indicated). Be sure all solution code is **fully executed** before screenshotting your solution to submit to Crowdmark. Make sure to save copies of all of your work (Jupyter notebook, handwritten solutions), in case a grader wants to verify your work."
   ]
  },
  {
   "cell_type": "markdown",
   "id": "19b9f606",
   "metadata": {},
   "source": [
    "-----"
   ]
  },
  {
   "cell_type": "markdown",
   "id": "c352ae68",
   "metadata": {},
   "source": [
    "## Ricker map\n",
    "\n",
    "The **Ricker map** is a UNDD model defined as\n",
    "\n",
    "$$P_{N+1} = a P_N e^{-b P_N}$$ \n",
    "\n",
    "Assume $a>0$, $b>0$, $P \\geq 0$."
   ]
  },
  {
   "cell_type": "markdown",
   "id": "b44db91c",
   "metadata": {},
   "source": [
    "-----"
   ]
  },
  {
   "cell_type": "markdown",
   "id": "a4a1f93f",
   "metadata": {},
   "source": [
    "**Problem 1:** Find all the equilibria of the Ricker map. Show all of your work. (You may handwrite your solution instead of using $\\LaTeX$, but you are encouraged to try to practice $\\LaTeX$ typsetting if you like)."
   ]
  },
  {
   "cell_type": "markdown",
   "id": "a813aabd",
   "metadata": {},
   "source": [
    "-----"
   ]
  },
  {
   "cell_type": "markdown",
   "id": "a8f872fe",
   "metadata": {},
   "source": [
    "**Problem 2:** Find an inquality relating the model parameters $a$ and $b$ which ensures all model equilibria are biologically relevant (_i.e._ all model equilibria are in the domain $P \\geq 0$). Simplify this inquality as much as possible."
   ]
  },
  {
   "cell_type": "markdown",
   "id": "09ec4cee",
   "metadata": {},
   "source": [
    "-----"
   ]
  },
  {
   "cell_type": "markdown",
   "id": "53e6ca1b",
   "metadata": {},
   "source": [
    "**Problem 3:** Derive the stability of all fixed points when they are biologically relevant. "
   ]
  },
  {
   "cell_type": "markdown",
   "id": "5a3cfd57",
   "metadata": {},
   "source": [
    "-----"
   ]
  },
  {
   "cell_type": "markdown",
   "id": "0d1ea5bf",
   "metadata": {},
   "source": [
    "**Problem 4:** Show that if $a<1$, $P$ will decrease monotonically toward zero (regardless of the value of $b$), _i.e._ that $P_{N+1} < P_N$ for any possible $P_N > 0$. (Remember from above that we are assuming $a>0$, $b>0$.)"
   ]
  },
  {
   "cell_type": "markdown",
   "id": "6851aa0a",
   "metadata": {},
   "source": [
    "-----"
   ]
  },
  {
   "cell_type": "markdown",
   "id": "e84fd124",
   "metadata": {},
   "source": [
    "**Problem 5:** Interpret the Ricker model term $ae^{-b P}$. What are are the underlying assumptions on system behaviour that yields this term? \n",
    "\n",
    "_Hint:_ Look at the derivation of the logistic growth model from lecture and how we interpreted the $R_{\\rm max}(1-P/P_{\\rm max})$ term there."
   ]
  }
 ],
 "metadata": {
  "kernelspec": {
   "display_name": "Python 3 (ipykernel)",
   "language": "python",
   "name": "python3"
  },
  "language_info": {
   "codemirror_mode": {
    "name": "ipython",
    "version": 3
   },
   "file_extension": ".py",
   "mimetype": "text/x-python",
   "name": "python",
   "nbconvert_exporter": "python",
   "pygments_lexer": "ipython3",
   "version": "3.9.7"
  }
 },
 "nbformat": 4,
 "nbformat_minor": 5
}
