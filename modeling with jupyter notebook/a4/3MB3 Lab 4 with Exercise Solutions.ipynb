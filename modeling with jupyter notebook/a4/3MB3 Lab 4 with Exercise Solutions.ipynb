{
 "cells": [
  {
   "cell_type": "markdown",
   "id": "23e900dc",
   "metadata": {},
   "source": [
    "# Lab 4 - Multivariate Linear Discrete-time Deterministic (MLDD) models"
   ]
  },
  {
   "cell_type": "markdown",
   "id": "bb909f6f",
   "metadata": {},
   "source": [
    "Author: Elizabeth O'Meara\n",
    "\n",
    "Adapted from a lab written by: Ben Bolker and Steve Walker"
   ]
  },
  {
   "cell_type": "code",
   "execution_count": 1,
   "id": "69126bb9",
   "metadata": {},
   "outputs": [],
   "source": [
    "import numpy as np\n",
    "import pandas as pd\n",
    "import seaborn as sns\n",
    "import matplotlib.pyplot as plt"
   ]
  },
  {
   "cell_type": "markdown",
   "id": "074c16fa",
   "metadata": {},
   "source": [
    "## The Annual Plant Model"
   ]
  },
  {
   "cell_type": "markdown",
   "id": "7e4c6c3b",
   "metadata": {},
   "source": [
    "In lecture, your instructor introduced the annual plant model for $P_N$, the plant population in year $N$. The original model depended on $P_{N-1}$ and $P_{N-2}$, the plant population in the two previous years, since this plant's seeds are viable for at most two years. In lecture, you transformed this univarite model with multiple lags (based on the plant population in several years) into a multivariate linear discrete-time deterministic (MLDD) model using the change of variables $S_N = P_{N-1}$. The MLDD model can be described by the  matrix equation\n",
    "\n",
    "$$\n",
    "\\begin{equation}\n",
    "\\begin{bmatrix} P \\\\ S \\end{bmatrix}_{N} = \\begin{bmatrix} \\gamma\\alpha\\sigma & \\gamma\\sigma^2(1-\\alpha)\\beta \\\\ 1 & 0 \\end{bmatrix} \\begin{bmatrix} P \\\\ S \\end{bmatrix}_{N-1}\n",
    "\\end{equation}\n",
    "$$\n",
    "\n",
    "where $\\gamma$ is the number of seeds produced per plant per year, $\\sigma$ is the proportion of seeds that survive the winter, $\\alpha$ is the 1st year germination proportion, and $\\beta$ is the 2nd year germination proportion. You will notice that this equation is of the form, $ \\vec{x_N} = M\\vec{x_{N-1}}$, which is the general matrix equation for MLDD models."
   ]
  },
  {
   "cell_type": "markdown",
   "id": "5ae39841",
   "metadata": {},
   "source": [
    "### Simualting the Annual Plant Model"
   ]
  },
  {
   "cell_type": "markdown",
   "id": "07d82c47",
   "metadata": {},
   "source": [
    "If we want to simulate solutions to this model, we will need to know how to write matrices in python. This can be accomplished using the `np.array()` function. For example, we can create a matrix with 1 through 3 in the first row and 4 through 6 in the second row using the code below."
   ]
  },
  {
   "cell_type": "code",
   "execution_count": 2,
   "id": "ea7a7e6d",
   "metadata": {},
   "outputs": [
    {
     "name": "stdout",
     "output_type": "stream",
     "text": [
      "[[1 2 3]\n",
      " [4 5 6]]\n"
     ]
    }
   ],
   "source": [
    "A = np.array([[1, 2, 3], [4, 5, 6]])\n",
    "print(A)"
   ]
  },
  {
   "cell_type": "markdown",
   "id": "2c702aa0",
   "metadata": {},
   "source": [
    "If we wish to access a specific element of our matrix, we can do so using the following code. In the example we are extracting the value in the 2nd row, 3rd column. **Note**: Remember that python's index begins at 0. So if you want the 1st row, its index is 0."
   ]
  },
  {
   "cell_type": "code",
   "execution_count": 3,
   "id": "60410f80",
   "metadata": {},
   "outputs": [
    {
     "name": "stdout",
     "output_type": "stream",
     "text": [
      "6\n"
     ]
    }
   ],
   "source": [
    "r2_c3 = A[1][2]\n",
    "\n",
    "print(r2_c3)"
   ]
  },
  {
   "cell_type": "markdown",
   "id": "1870998e",
   "metadata": {},
   "source": [
    "Next, if we wish to perform matrix multiplication, we must use the `np.dot()` function."
   ]
  },
  {
   "cell_type": "code",
   "execution_count": 4,
   "id": "a406bae1",
   "metadata": {},
   "outputs": [
    {
     "name": "stdout",
     "output_type": "stream",
     "text": [
      "[[22 28]\n",
      " [49 64]]\n"
     ]
    }
   ],
   "source": [
    "B = np.array([[1, 2], [3, 4], [5, 6]])\n",
    "C = A.dot(B)\n",
    "print(C)"
   ]
  },
  {
   "cell_type": "markdown",
   "id": "e0d0cf26",
   "metadata": {},
   "source": [
    "Finally, we can find the transpose of a matrix using the `np.transpose()` function. This is also useful if you need to turn a row vector into a column vector or vice versa."
   ]
  },
  {
   "cell_type": "code",
   "execution_count": 5,
   "id": "d107b6ef",
   "metadata": {},
   "outputs": [
    {
     "name": "stdout",
     "output_type": "stream",
     "text": [
      "[[1 4]\n",
      " [2 5]\n",
      " [3 6]]\n"
     ]
    }
   ],
   "source": [
    "D = A.transpose()\n",
    "print(D)"
   ]
  },
  {
   "cell_type": "code",
   "execution_count": 6,
   "id": "8d5eb5db",
   "metadata": {},
   "outputs": [
    {
     "name": "stdout",
     "output_type": "stream",
     "text": [
      "[[14]\n",
      " [32]]\n"
     ]
    }
   ],
   "source": [
    "e = np.array([[1, 2, 3]])\n",
    "f = A.dot(e.transpose())\n",
    "print(f)"
   ]
  },
  {
   "cell_type": "markdown",
   "id": "c8da9508",
   "metadata": {},
   "source": [
    "**Exercise 1**: Define a function that simulates the annual plant model. Your function should take the arguments $P_0$, $S_0$, $\\gamma$, $\\sigma$, $\\alpha$, $\\beta$, and the total number of time steps $T$ (not counting $N = 0$). Make sure the output of your function is a data frame containing $N$ and $P_N$.\n",
    "\n",
    "Confidence check: with $P_0=20$, $S_0=25$, $\\gamma=4$, $\\sigma=0.5$, $\\alpha=0.3$, $\\beta=0.65$, and $T=20$, $P_{20}=$ 46.10839616.\n",
    "\n",
    "*Hint: you can create an array of zeros using* `np.zeros((r, c))` *where r is the number of rows and c is the number of columns*"
   ]
  },
  {
   "cell_type": "code",
   "execution_count": 7,
   "id": "0c0ae435",
   "metadata": {},
   "outputs": [
    {
     "name": "stdout",
     "output_type": "stream",
     "text": [
      "     N          P\n",
      "0    0  20.000000\n",
      "1    1  23.375000\n",
      "2    2  23.125000\n",
      "3    3  24.510625\n",
      "4    4  25.228250\n",
      "5    5  26.289284\n",
      "6    6  27.252424\n",
      "7    7  28.313079\n",
      "8    8  29.387700\n",
      "9    9  30.515071\n",
      "10  10  31.680446\n",
      "11  11  32.892625\n",
      "12  12  34.150178\n",
      "13  13  35.456252\n",
      "14  14  36.812082\n",
      "15  15  38.219844\n",
      "16  16  39.681404\n",
      "17  17  41.198871\n",
      "18  18  42.774361\n",
      "19  19  44.410103\n",
      "20  20  46.108396\n"
     ]
    }
   ],
   "source": [
    "def annual_plant(P0=20, S0=25, gamma=4, sigma=0.5, alpha=0.3, beta=0.65, T=20):\n",
    "    N = np.arange(T+1)\n",
    "    x = np.zeros((2, T+1))\n",
    "    x[:,0] = np.array([[P0, S0]])\n",
    "    M = np.array([[gamma*sigma*alpha, gamma*(sigma**2)*(1 - alpha)*beta], [1, 0]])\n",
    "    \n",
    "    for i in N[1:T+1]:\n",
    "        x[:,i] = M.dot(x[:,i-1])\n",
    "    \n",
    "    df = pd.DataFrame({\n",
    "        'N': N,\n",
    "        'P': x[0]\n",
    "    })\n",
    "    \n",
    "    return df\n",
    "    \n",
    "df = annual_plant()\n",
    "print(df)"
   ]
  },
  {
   "cell_type": "markdown",
   "id": "81ad7ca4",
   "metadata": {},
   "source": [
    "**Exercise 2**: Using the function you created in exercise 1, using all the same parameter values and initial conditions, simulate the model for the following values of $\\gamma$: 1, 2, 3, and 4.\n",
    "    \n",
    "Plot the simulated values of $P$ for all values of $\\gamma$ on the same plot using `seaborn`."
   ]
  },
  {
   "cell_type": "code",
   "execution_count": 8,
   "id": "5dc8cb16",
   "metadata": {},
   "outputs": [
    {
     "data": {
      "image/png": "[encoded data removed]",
      "text/plain": [
       "<Figure size 432x288 with 1 Axes>"
      ]
     },
     "metadata": {
      "needs_background": "light"
     },
     "output_type": "display_data"
    }
   ],
   "source": [
    "case_1 = annual_plant(gamma=1)\n",
    "case_2 = annual_plant(gamma=2)\n",
    "case_3 = annual_plant(gamma=3)\n",
    "case_4 = annual_plant()\n",
    "\n",
    "N = np.arange(21)\n",
    "\n",
    "case_1['Gamma'] = 1\n",
    "case_2['Gamma'] = 2\n",
    "case_3['Gamma'] = 3\n",
    "case_4['Gamma'] = 4\n",
    "\n",
    "df = pd.concat([case_1, case_2, case_3, case_4], axis=0, ignore_index=True)\n",
    "\n",
    "sns.scatterplot(data=df, x='N', y='P', hue='Gamma')\n",
    "plt.title('Simulating the Annual Plant Model for Varying Gamma');"
   ]
  },
  {
   "cell_type": "markdown",
   "id": "6de78e31",
   "metadata": {},
   "source": [
    "### Closed Form Solution"
   ]
  },
  {
   "cell_type": "markdown",
   "id": "b8710362",
   "metadata": {},
   "source": [
    "In class, your instructor derived the closed form solution of this model, which is\n",
    "\n",
    "$$\n",
    "\\begin{equation}\n",
    "\\vec{x_N} = M^N\\vec{x_0}\n",
    "\\end{equation}\n",
    "$$\n",
    "\n",
    "and showed that if $M$ is diagonalizable, the closed form solution can instead be written as\n",
    "\n",
    "$$\n",
    "\\begin{equation}\n",
    "\\vec{x_N} = VD^NV^{-1}\\vec{x_0}\n",
    "\\end{equation}\n",
    "$$\n",
    "\n",
    "where $D$ is a diagonal matrix (with entries as the eigenvalues of $M$) and $V$ is a matrix containing the eigenvectors of $M$ (in the same order as the eigenvalues appear in $D$)."
   ]
  },
  {
   "cell_type": "markdown",
   "id": "8932fafe",
   "metadata": {
    "slideshow": {
     "slide_type": "slide"
    }
   },
   "source": [
    "If we want to define a function that calculates $\\vec{x_N}$ for each value of $N$, we need to know how to find the eigenvalues and eigenvectors of $M$ and how to find the inverse of a matrix, in Python. First, to find the eigenvalues and eigenvectors, we use the function `np.linalg.eig`. For simplicity we import `np.linalg` as `linalg`. This function outputs a vector containing eigenvalues repeated based on their multiplicity and the matrix of eigenvectors."
   ]
  },
  {
   "cell_type": "code",
   "execution_count": 9,
   "id": "eb3713e6",
   "metadata": {},
   "outputs": [
    {
     "name": "stdout",
     "output_type": "stream",
     "text": [
      "[-0.37228132  5.37228132]\n",
      "[[-0.82456484 -0.41597356]\n",
      " [ 0.56576746 -0.90937671]]\n"
     ]
    }
   ],
   "source": [
    "import numpy.linalg as linalg\n",
    "\n",
    "A = np.array([[1, 2], [3, 4]])\n",
    "\n",
    "eig, V = linalg.eig(A)\n",
    "\n",
    "print(eig)\n",
    "print(V)\n"
   ]
  },
  {
   "cell_type": "markdown",
   "id": "ac384903",
   "metadata": {},
   "source": [
    "We can create a matrix with the eigenvalues along the diagonal using the `np.fill_diagonal()` function, where the first argument is an array that you want to change the diagonal entries of, and the second is either a scalar or an array-like object that tells the function what values to put on the diagonal."
   ]
  },
  {
   "cell_type": "code",
   "execution_count": 10,
   "id": "86122fde",
   "metadata": {},
   "outputs": [
    {
     "name": "stdout",
     "output_type": "stream",
     "text": [
      "[[-0.37228132  0.        ]\n",
      " [ 0.          5.37228132]]\n"
     ]
    }
   ],
   "source": [
    "D = np.zeros((2,2))\n",
    "np.fill_diagonal(D, eig)\n",
    "\n",
    "print(D)"
   ]
  },
  {
   "cell_type": "markdown",
   "id": "9e8d3a98",
   "metadata": {},
   "source": [
    "Finally, we find the inverse of a matrix using the `linalg.inv()` function."
   ]
  },
  {
   "cell_type": "code",
   "execution_count": 11,
   "id": "f270434f",
   "metadata": {},
   "outputs": [],
   "source": [
    "V_inv = linalg.inv(V)"
   ]
  },
  {
   "cell_type": "markdown",
   "id": "f6f8f4d4",
   "metadata": {},
   "source": [
    "Now we can check that $SDS^{-1}=A$ to ensure nothing went wrong."
   ]
  },
  {
   "cell_type": "code",
   "execution_count": 12,
   "id": "ea75a83b",
   "metadata": {},
   "outputs": [
    {
     "name": "stdout",
     "output_type": "stream",
     "text": [
      "[[1. 2.]\n",
      " [3. 4.]]\n"
     ]
    }
   ],
   "source": [
    "B = V.dot(D.dot(V_inv))\n",
    "print(B)"
   ]
  },
  {
   "cell_type": "markdown",
   "id": "a90a5907",
   "metadata": {},
   "source": [
    "**Exercise 3**: Define a function that calculates the closed form solution for given time steps $N$. Your function should take the arguments $P_0$, $S_0$, $\\gamma$, $\\sigma$, $\\alpha$, $\\beta$, and the total number of time steps $T$ (not counting $N = 0$). Make sure the output of your function is a data frame containing $N$ and $P_N$. Also have the function output the matrix $M$ and its eigenvalues, this will help in a later exercise. Check that the results of your closed form solution match that of your discrete-time model simulations for the same given parameters: $P_0=20$, $S_0=25$, $\\gamma=4$, $\\sigma=0.5$, $\\alpha=0.3$, $\\beta=0.65$, and $T=20$.\n",
    "\n",
    "*Hint: you can raise a matrix to the power of a value using the* `linalg.matrix_power(a, b)` *function where `a` is the matrix and `b` is the power*"
   ]
  },
  {
   "cell_type": "code",
   "execution_count": 13,
   "id": "981ddfc8",
   "metadata": {},
   "outputs": [],
   "source": [
    "def cf_plant_mod(P0=20, S0=25, gamma=4, sigma=0.5, alpha=0.3, beta=0.65, T=20):\n",
    "    N = np.arange(T + 1)\n",
    "    x = np.zeros((3, T + 1))\n",
    "    x[0] = N\n",
    "    init_vals = np.array([[P0, S0]])\n",
    "\n",
    "    M = np.array([[gamma*sigma*alpha, gamma*(sigma**2)*(1 - alpha)*beta], [1, 0]])\n",
    "    eig, P = linalg.eig(M)\n",
    "\n",
    "    P_inv = linalg.inv(P)\n",
    "    D = np.zeros((len(eig),len(eig)))\n",
    "    np.fill_diagonal(D, eig)\n",
    "                \n",
    "    \n",
    "    for t in N:\n",
    "        x[(1,2),t] = P.dot(linalg.matrix_power(D, t).dot(P_inv)).dot(init_vals.transpose()).transpose()\n",
    "    \n",
    "    df = pd.DataFrame({\n",
    "        'N': x[0],\n",
    "        'P': x[1]\n",
    "    })\n",
    "    \n",
    "    return df, eig, M\n",
    "    \n",
    "df, eig, M = cf_plant_mod()    "
   ]
  },
  {
   "cell_type": "markdown",
   "id": "4a0a8456",
   "metadata": {},
   "source": [
    "**Exercise 4**: Create a plot comparing the closed form solution to the simulation of the discrete model for the same parameters as in exercise 1. Do they agree?"
   ]
  },
  {
   "cell_type": "code",
   "execution_count": 14,
   "id": "722c3c16",
   "metadata": {},
   "outputs": [
    {
     "data": {
      "image/png": "[encoded data removed]",
      "text/plain": [
       "<Figure size 432x288 with 1 Axes>"
      ]
     },
     "metadata": {
      "needs_background": "light"
     },
     "output_type": "display_data"
    }
   ],
   "source": [
    "df, eig, M = cf_plant_mod()\n",
    "df['type'] = 'cf'\n",
    "df_cf = df\n",
    "df_sim = case_4\n",
    "df_sim['type'] = 'sim'\n",
    "\n",
    "df_final = pd.concat([df_cf, df_sim], axis=0, ignore_index=True)\n",
    "\n",
    "sns.scatterplot(data=df_final, x='N', y='P', hue='type');"
   ]
  },
  {
   "cell_type": "markdown",
   "id": "88fac192",
   "metadata": {},
   "source": [
    "### Finding the Fixed Point"
   ]
  },
  {
   "cell_type": "markdown",
   "id": "8be519d7",
   "metadata": {},
   "source": [
    "In lecture, your instructor described how to find the fixed point of the model. Where $\\vec{x^*}$ is a fixed point if $\\vec{x^*}=M\\vec{x^*}$, ie. $(I-M)\\vec{x^*}=0$. If $(I-M)$ is invertible, then $\\vec{x^*} = 0$ is the only fixed point. Otherwise, there is an $n-r$ dimensional nullspace, where $n$ is the dimension of $(I-M)$ and $r$ is the rank. By definition, $(I-M)$ is invertible if $\\text{det}(I-M)\\neq 0$. We can find the determinant of a matrix in python using the `linalg.det()`. We can also create the identity matrix using the function `numpy.identity()` where you provide a scalar describing the number of rows/columns. See following example:"
   ]
  },
  {
   "cell_type": "code",
   "execution_count": 15,
   "id": "fd304cdf",
   "metadata": {},
   "outputs": [
    {
     "name": "stdout",
     "output_type": "stream",
     "text": [
      "-6.0\n"
     ]
    }
   ],
   "source": [
    "I = np.identity(2)\n",
    "M = np.array([[1, 2], [3, 4]])\n",
    "A = I - M\n",
    "print(linalg.det(A))"
   ]
  },
  {
   "cell_type": "markdown",
   "id": "a4d7b22d",
   "metadata": {},
   "source": [
    "In the example, since $\\text{det}(I-M)\\neq 0$, $\\vec{x^*} = 0$ is the only fixed point of the system $\\vec{x_N} = M\\vec{x_{N-1}}$."
   ]
  },
  {
   "cell_type": "markdown",
   "id": "b6be265b",
   "metadata": {},
   "source": [
    "**Exercise 5**: Using the default parameters given in exercise 3, is  $\\vec{x^*} = 0$ the only fixed point of the model? Why or why not?"
   ]
  },
  {
   "cell_type": "code",
   "execution_count": 16,
   "id": "b90ac2ec",
   "metadata": {},
   "outputs": [
    {
     "name": "stdout",
     "output_type": "stream",
     "text": [
      "True\n"
     ]
    }
   ],
   "source": [
    "df, eig, M = cf_plant_mod()\n",
    "I = np.identity(len(M))\n",
    "A = I - M\n",
    "print(linalg.det(A) != 0)"
   ]
  },
  {
   "cell_type": "markdown",
   "id": "9e09cfd1",
   "metadata": {},
   "source": [
    "### Determining the Stability of the Fixed Point"
   ]
  },
  {
   "cell_type": "markdown",
   "id": "3632056e",
   "metadata": {},
   "source": [
    "To determine the stability of the fixed point, we will use the eigenvalues of the matrix $M$. If all of the eigenvalues have an absolute value (or modulus if they are complex) less than 1, then the fixed point, $\\vec{x^*} = 0$, is stable. Otherwise, the fixed point is unstable."
   ]
  },
  {
   "cell_type": "code",
   "execution_count": 17,
   "id": "8de3f4ce",
   "metadata": {},
   "outputs": [
    {
     "name": "stdout",
     "output_type": "stream",
     "text": [
      "[ 1.03824115 -0.43824115]\n"
     ]
    },
    {
     "data": {
      "text/plain": [
       "array([False,  True])"
      ]
     },
     "execution_count": 17,
     "metadata": {},
     "output_type": "execute_result"
    }
   ],
   "source": [
    "eig, P = linalg.eig(M)\n",
    "print(eig)\n",
    "np.abs(eig) < 1"
   ]
  },
  {
   "cell_type": "markdown",
   "id": "18ab3d8e",
   "metadata": {},
   "source": [
    "In the example above, since only one eigenvalue has an absolute value less than 1, the fixed point is unstable."
   ]
  },
  {
   "cell_type": "markdown",
   "id": "21a2ad9f",
   "metadata": {},
   "source": [
    "**Exercise 6**: Using the same parameters as used in Exercise 5, determine the stability of the fixed point. Does this result agree with the plot you created in exercise 4?"
   ]
  },
  {
   "cell_type": "code",
   "execution_count": 18,
   "id": "ad2494ce",
   "metadata": {},
   "outputs": [
    {
     "name": "stdout",
     "output_type": "stream",
     "text": [
      "[False  True]\n"
     ]
    }
   ],
   "source": [
    "df, eig, M = cf_plant_mod()\n",
    "print(np.abs(eig) < 1)"
   ]
  }
 ],
 "metadata": {
  "kernelspec": {
   "display_name": "Python 3 (ipykernel)",
   "language": "python",
   "name": "python3"
  },
  "language_info": {
   "codemirror_mode": {
    "name": "ipython",
    "version": 3
   },
   "file_extension": ".py",
   "mimetype": "text/x-python",
   "name": "python",
   "nbconvert_exporter": "python",
   "pygments_lexer": "ipython3",
   "version": "3.9.7"
  }
 },
 "nbformat": 4,
 "nbformat_minor": 5
}
