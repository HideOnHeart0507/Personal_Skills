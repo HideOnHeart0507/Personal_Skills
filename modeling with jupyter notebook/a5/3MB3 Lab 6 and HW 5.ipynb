{
 "cells": [
  {
   "cell_type": "markdown",
   "id": "23e900dc",
   "metadata": {},
   "source": [
    "# Lab 6 - Multivariate Nonlinear Continuous-time Deterministic (MNCD) models"
   ]
  },
  {
   "cell_type": "code",
   "execution_count": 1,
   "id": "69126bb9",
   "metadata": {},
   "outputs": [],
   "source": [
    "import numpy as np\n",
    "import pandas as pd\n",
    "import seaborn as sns\n",
    "import matplotlib.pyplot as plt"
   ]
  },
  {
   "cell_type": "markdown",
   "id": "75ff665f",
   "metadata": {},
   "source": [
    "## Simplest Version of the Predator-Prey Model"
   ]
  },
  {
   "cell_type": "markdown",
   "id": "e9aa6a3c",
   "metadata": {},
   "source": [
    "In last week's lab I introduced several continuous-time deterministic models, although without much biological context. This lab will introduce one of the  most well-known multivariate nonlinear continuous-time deterministic models that describes the interaction between two species: the Lotka-Volterra Predator-Prey model. (See model below)\n",
    "\n",
    "$$\n",
    "\\begin{align}\n",
    "\\frac{dx}{dt} &= ax - bxy \\\\\n",
    "\\frac{dy}{dt} &= cxy - dy\n",
    "\\end{align}\n",
    "$$\n",
    "\n",
    "In this system, $x$ represents the prey population and $y$ represents the predator population. In this model, all of the paramters are strictly positive, i.e., $a,b,c,d>0$. Given these definitions, lets discuss the following questions through a biological lens:\n",
    "\n",
    "1. What happens when there are no prey in the system?\n",
    "2. What happens when there are no predators in the system?\n",
    "3. What do the $xy$ terms represent?\n",
    "4. What is the biological interpretation of the parameters?\n",
    "\n",
    "As this is a very simple example of the interaction between two species, there are a few caveats. What assumptions does the model make that may not be biologically accurate?\n"
   ]
  },
  {
   "cell_type": "markdown",
   "id": "6b94e8c0",
   "metadata": {},
   "source": [
    "**Exercise 1**: Find the equilibria of this model. (Remember that this occurs when $\\frac{dx}{dt}=\\frac{dy}{dt}=0$)."
   ]
  },
  {
   "cell_type": "markdown",
   "id": "7fec0c0b",
   "metadata": {},
   "source": [
    "### Stability Analysis"
   ]
  },
  {
   "cell_type": "markdown",
   "id": "0e4af238",
   "metadata": {},
   "source": [
    "To determine the stability of the fixed points we must first find the Jacobian of the system. The Jacobian is defined as the matrix of the first order partial derivatives of the system. For example if we let $\\frac{dx}{dt}=f_1(x,y)$ and $\\frac{dy}{dt}=f_2(x,y)$, then the Jacobian of the system is as follows.\n",
    "\n",
    "$$\n",
    "J = \\begin{bmatrix} \\frac{\\partial f_1(x,y)}{\\partial x} & \\frac{\\partial f_1(x,y)}{\\partial y} \\\\ \\frac{\\partial f_2(x,y)}{\\partial x} & \\frac{\\partial f_2(x,y)}{\\partial y} \\end{bmatrix}\n",
    "$$"
   ]
  },
  {
   "cell_type": "markdown",
   "id": "6fb528db",
   "metadata": {},
   "source": [
    "**Exercise 2**: Find the Jacobian of the Lotka-Volterra Predator-Prey model."
   ]
  },
  {
   "cell_type": "markdown",
   "id": "6c667364",
   "metadata": {},
   "source": [
    "Once we have found the Jacobian, in order to determine the stability of the equilibria, we must inspect the eigenvalues of the Jacobian when evaluated at the equilibria. For example, if $(x^*,y^*)$ is a fixed point of the following system:\n",
    "\n",
    "$$\n",
    "\\begin{align}\n",
    "\\frac{dx}{dt} &= f_1(x,y) \\\\\n",
    "\\frac{dy}{dt} &= f_2(x,y)\n",
    "\\end{align}\n",
    "$$"
   ]
  },
  {
   "cell_type": "markdown",
   "id": "eeb7d0d8",
   "metadata": {
    "slideshow": {
     "slide_type": "slide"
    }
   },
   "source": [
    "If the eigenvalues of $J(x^*,y^*)$ both have the real part less than zero, then the equilibrium point is stable. If at least one has real part greater than zero, then the equilibrium point is unstable. If one eigenvalue has real part less than or equal to zero, and there is at least one eigenvalue with real part equal to zero, we cannot use the Jacobian analysis to determine stability of the equilibrium point. "
   ]
  },
  {
   "cell_type": "markdown",
   "id": "dfdffb2c",
   "metadata": {},
   "source": [
    "**Exercise 3**: Determine the stability of each fixed point. "
   ]
  },
  {
   "cell_type": "markdown",
   "id": "8219de2f",
   "metadata": {},
   "source": [
    "**Exercise 4**: Use the techniques from Lab 5 to write a function that produces a direction field plot for when $x > 0$ and when $y > 0$, along with a solution trajectory overtop. Your function should take as input: model, parameters, t and initial conditions. **Hint: if you initiate the plot of the solution trajectory before defining the xmax and ymax, you can use ``xmax = plt.xlim(xmin=0)[1]`` and ``ymax = plt.ylim(ymin=0)[1]`` to find the minimum axes limits that will show the solution trajectory**"
   ]
  },
  {
   "cell_type": "markdown",
   "id": "3adb9040",
   "metadata": {},
   "source": [
    "**Exercise 5:** Use your direction field function from exercise 4 to produce the direction field for the Predator-Prey model with strictly positive parameters and initial conditions. Check that the results match the stability in exercise 3."
   ]
  },
  {
   "cell_type": "markdown",
   "id": "d3b36d2d",
   "metadata": {},
   "source": [
    "**Exercise 6:** Discuss the model results from exercises 1-5 in the real-world context. What kind of behaviour does this model predict for the interaction between predator and prey. Do the model predictions make sense?"
   ]
  },
  {
   "cell_type": "markdown",
   "id": "0d16e4ba",
   "metadata": {},
   "source": [
    "**Exercise 7:** Suggest a variation of the simple predator-prey model that may more accurately represent the real-life interactions between predators and prey that are _not_ the variations explored in the homework. Discuss why your suggestion may make for a more useful model."
   ]
  },
  {
   "cell_type": "markdown",
   "id": "acb628a2",
   "metadata": {},
   "source": [
    "-----"
   ]
  },
  {
   "cell_type": "markdown",
   "id": "637ff0b9",
   "metadata": {},
   "source": [
    "# Homework 5\n",
    "\n",
    "Homework 5 is due on **Wedneday 9 March at 9 PM**. Please solve each problem either on paper or in this notebook (whichever is more appropriate, unless otherwise indicated). Be sure all solution code is **fully executed** before screenshotting your solution to submit to Crowdmark. Make sure to save copies of all of your work (Jupyter notebook, handwritten solutions), in case a grader wants to verify your work."
   ]
  },
  {
   "cell_type": "markdown",
   "id": "58fa073b",
   "metadata": {},
   "source": [
    "-----"
   ]
  },
  {
   "cell_type": "markdown",
   "id": "5bbb7b3c",
   "metadata": {},
   "source": [
    "## Variations of the predator-prey model\n",
    "\n",
    "Let's explore two variations of the predator-prey model now. \n",
    "\n",
    "### Variation 1: Logistic prey\n",
    "\n",
    "Consider the predator-prey model with all the same assumptions of the simple model explored in lab, except that the prey reproduction follows a logistic model instead of an exponential. The model equations can be written as follows:\n",
    "\n",
    "$$\n",
    "\\begin{align}\n",
    "\\frac{dx}{dt} &= ax-bx^2-cxy \\\\\n",
    "\\frac{dy}{dt} &= exy-fy\n",
    "\\end{align}\n",
    "$$\n",
    "\n",
    "As before, assume all model parameters are strictly positive (positive and not equal to zero)."
   ]
  },
  {
   "cell_type": "markdown",
   "id": "16ac06b8",
   "metadata": {},
   "source": [
    "-----"
   ]
  },
  {
   "cell_type": "markdown",
   "id": "c443d82e",
   "metadata": {},
   "source": [
    "**Problem 1:** _(4 pts)_ Check that the above system of equations as written does indeed reflect the assumption of logistic growth in prey (in the absence of predators). Do so by assuming that there are no predators and show that the resulting equation for $dx/dt$ is equivalent to the logistic model as presented in lecture. In other words, find expressions for the parameters $a$ and $b$ from above in terms of the parameters $R_{\\rm max}$ and $P_{\\rm max}$ used for the logistic model in lecture."
   ]
  },
  {
   "cell_type": "markdown",
   "id": "2ab2bc91",
   "metadata": {},
   "source": [
    "------"
   ]
  },
  {
   "cell_type": "markdown",
   "id": "7e77af5d",
   "metadata": {},
   "source": [
    "**Problem 2:** _(6 pts)_ Find expressions for all fixed points of the model in terms of the model parameters. What does the fixed point with  $x>0$ and $y>0$ represent biologically (when it exists)?"
   ]
  },
  {
   "cell_type": "markdown",
   "id": "853d5c01",
   "metadata": {},
   "source": [
    "-----"
   ]
  },
  {
   "cell_type": "markdown",
   "id": "29d569ed",
   "metadata": {},
   "source": [
    "**Problem 3:** _(10 pts)_ Construct a direction field plot of the system for the case where there exists a fixed point with $x>0$ and $y>0$. Use a numeric differential equation solver to plot one solution trajectory over the direction field. Be sure to label plot axes descriptively. Interpret the solution trajectory in the context of the real-world application."
   ]
  },
  {
   "cell_type": "markdown",
   "id": "dffc1bbc",
   "metadata": {},
   "source": [
    "-----"
   ]
  },
  {
   "cell_type": "markdown",
   "id": "a3306fb7",
   "metadata": {},
   "source": [
    "**Problem 4:** _(8 pts)_ Determine the stability of the fixed point with $x>0$ and $y>0$ (when it exists) by analyzing the eigenvalues of the Jacobian matrix. Note that there may be several cases for this fixed point's stability depending on the model parameters: be sure to analyze all of these cases."
   ]
  },
  {
   "cell_type": "markdown",
   "id": "78257523",
   "metadata": {},
   "source": [
    "-----"
   ]
  },
  {
   "cell_type": "markdown",
   "id": "8569f2c8",
   "metadata": {},
   "source": [
    "### Variation 2: Logistic prey and logistic predators\n",
    "\n",
    "Now consider the predator-prey model from variation 1, but now let's make it so that that predator reproduction also follows a logistic model in the absence of prey. (This would be the case if predators were able to survive without prey, _e.g._, if they had another source of food.) The model equations are as follows:\n",
    "\n",
    "$$\n",
    "\\begin{align}\n",
    "\\frac{dx}{dt} &= ax-bx^2-cxy \\\\\n",
    "\\frac{dy}{dt} &= exy+fy-gy^2\n",
    "\\end{align}\n",
    "$$\n",
    "\n",
    "Again, assume all model parameters are strictly positive (positive and not equal to zero)."
   ]
  },
  {
   "cell_type": "markdown",
   "id": "42f38d05",
   "metadata": {},
   "source": [
    "-----"
   ]
  },
  {
   "cell_type": "markdown",
   "id": "ff29e917",
   "metadata": {},
   "source": [
    "**Problem 5:** _(4 pts)_ Find expressions for all fixed points of the model in terms of the model parameters."
   ]
  },
  {
   "cell_type": "markdown",
   "id": "49218f20",
   "metadata": {},
   "source": [
    "-----"
   ]
  },
  {
   "cell_type": "markdown",
   "id": "878e56a7",
   "metadata": {},
   "source": [
    "**Problem 6:** _(10 pts)_ Construct a direction field plot of the system for the case where there exists a fixed point with $x>0$ and $y>0$. Use a numeric differential equation solver to plot one solution trajectory over the direction field. Be sure to label plot axes descriptively. Interpret the solution trajectory in the context of the real-world application."
   ]
  },
  {
   "cell_type": "markdown",
   "id": "dce90266",
   "metadata": {},
   "source": [
    "-----"
   ]
  },
  {
   "cell_type": "markdown",
   "id": "178b2d46",
   "metadata": {},
   "source": [
    "**Problem 7:** _(8 pts)_ Determine the stability of the fixed point with $x>0$ and $y>0$ (when it exists) by analyzing the eigenvalues of the Jacobian matrix. Note that there may be several cases for this fixed point's stability depending on the model parameters: be sure to analyze all of these cases."
   ]
  },
  {
   "cell_type": "markdown",
   "id": "b1427080",
   "metadata": {},
   "source": [
    "-----"
   ]
  },
  {
   "cell_type": "markdown",
   "id": "de3041d3",
   "metadata": {},
   "source": [
    "**Problem 8:** _(6 pts)_ Compare the results of the basic predator-prey model (explored in lab) and the two variations you studied though the previous homework problems. Discuss any similarities and highlight and differences between model results, especially as they pertain to the real-world application of this model."
   ]
  }
 ],
 "metadata": {
  "kernelspec": {
   "display_name": "Python 3 (ipykernel)",
   "language": "python",
   "name": "python3"
  },
  "language_info": {
   "codemirror_mode": {
    "name": "ipython",
    "version": 3
   },
   "file_extension": ".py",
   "mimetype": "text/x-python",
   "name": "python",
   "nbconvert_exporter": "python",
   "pygments_lexer": "ipython3",
   "version": "3.8.11"
  }
 },
 "nbformat": 4,
 "nbformat_minor": 5
}
